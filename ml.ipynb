{
 "cells": [
  {
   "cell_type": "code",
   "execution_count": 242,
   "metadata": {},
   "outputs": [],
   "source": [
    "import numpy as np\r\n",
    "import pandas as pd\r\n",
    "from matplotlib import pyplot as plt\r\n",
    "from sklearn.metrics import classification_report, confusion_matrix\r\n",
    "from sklearn.metrics import plot_precision_recall_curve\r\n",
    "from sklearn.model_selection import train_test_split\r\n",
    "from sklearn import tree\r\n",
    "from sklearn.pipeline import Pipeline\r\n",
    "from sklearn.model_selection import GridSearchCV\r\n",
    "from sklearn.metrics import precision_recall_curve\r\n",
    "from sklearn.tree import DecisionTreeClassifier\r\n",
    "from sklearn.experimental import enable_iterative_imputer\r\n",
    "from sklearn.impute import IterativeImputer\r\n",
    "from sklearn import metrics\r\n",
    "import matplotlib.pyplot as plt\r\n",
    "from sklearn.metrics import roc_curve, auc"
   ]
  },
  {
   "cell_type": "code",
   "execution_count": 266,
   "metadata": {},
   "outputs": [
    {
     "data": {
      "text/html": "<div>\n<style scoped>\n    .dataframe tbody tr th:only-of-type {\n        vertical-align: middle;\n    }\n\n    .dataframe tbody tr th {\n        vertical-align: top;\n    }\n\n    .dataframe thead th {\n        text-align: right;\n    }\n</style>\n<table border=\"1\" class=\"dataframe\">\n  <thead>\n    <tr style=\"text-align: right;\">\n      <th></th>\n      <th>activities</th>\n      <th>often</th>\n      <th>rare</th>\n      <th>mean</th>\n      <th>good_ok</th>\n    </tr>\n  </thead>\n  <tbody>\n    <tr>\n      <th>0</th>\n      <td>bath</td>\n      <td>26</td>\n      <td>24</td>\n      <td>25</td>\n      <td>good</td>\n    </tr>\n    <tr>\n      <th>1</th>\n      <td>music</td>\n      <td>11</td>\n      <td>32</td>\n      <td>22</td>\n      <td>good</td>\n    </tr>\n    <tr>\n      <th>2</th>\n      <td>sex</td>\n      <td>10</td>\n      <td>10</td>\n      <td>10</td>\n      <td>good</td>\n    </tr>\n    <tr>\n      <th>3</th>\n      <td>pray</td>\n      <td>5</td>\n      <td>10</td>\n      <td>7</td>\n      <td>ok</td>\n    </tr>\n    <tr>\n      <th>4</th>\n      <td>read</td>\n      <td>18</td>\n      <td>10</td>\n      <td>14</td>\n      <td>good</td>\n    </tr>\n  </tbody>\n</table>\n</div>",
      "text/plain": "  activities  often  rare  mean good_ok\n0       bath     26    24    25    good\n1      music     11    32    22    good\n2        sex     10    10    10    good\n3       pray      5    10     7      ok\n4       read     18    10    14    good"
     },
     "execution_count": 266,
     "metadata": {},
     "output_type": "execute_result"
    }
   ],
   "source": [
    "##Load the dataset¶\r\n",
    "data= pd.read_csv('../activities.csv',delimiter=',')\r\n",
    "data.head()"
   ]
  },
  {
   "cell_type": "code",
   "execution_count": 267,
   "metadata": {},
   "outputs": [
    {
     "data": {
      "text/plain": "(9, 5)"
     },
     "execution_count": 267,
     "metadata": {},
     "output_type": "execute_result"
    }
   ],
   "source": [
    "##View the dimensions of the dataset\r\n",
    "data.shape"
   ]
  },
  {
   "cell_type": "code",
   "execution_count": 268,
   "metadata": {},
   "outputs": [],
   "source": [
    "data['activities'].fillna(0, inplace=True)"
   ]
  },
  {
   "cell_type": "code",
   "execution_count": 269,
   "metadata": {},
   "outputs": [],
   "source": [
    "#Converting words to integer values\r\n",
    "def convert_to_int(word):\r\n",
    "    word_dict = {'bath':1, 'music':2, 'sex':3, 'pray':4, 'read':5, 'exercise':6, 'alcohol':7, 'talking_to_spouse':8, 'medication':9}\r\n",
    "    return word_dict[word]"
   ]
  },
  {
   "cell_type": "code",
   "execution_count": 270,
   "metadata": {},
   "outputs": [],
   "source": [
    "X = data.iloc[:, :4]\r\n",
    "X['activities'] = X['activities'].apply(lambda x : convert_to_int(x))"
   ]
  },
  {
   "cell_type": "code",
   "execution_count": 271,
   "metadata": {},
   "outputs": [],
   "source": [
    "y = data.iloc[:, -1]"
   ]
  },
  {
   "cell_type": "code",
   "execution_count": 272,
   "metadata": {},
   "outputs": [
    {
     "data": {
      "text/html": "<div>\n<style scoped>\n    .dataframe tbody tr th:only-of-type {\n        vertical-align: middle;\n    }\n\n    .dataframe tbody tr th {\n        vertical-align: top;\n    }\n\n    .dataframe thead th {\n        text-align: right;\n    }\n</style>\n<table border=\"1\" class=\"dataframe\">\n  <thead>\n    <tr style=\"text-align: right;\">\n      <th></th>\n      <th>often</th>\n      <th>rare</th>\n      <th>mean</th>\n    </tr>\n  </thead>\n  <tbody>\n    <tr>\n      <th>0</th>\n      <td>26</td>\n      <td>24</td>\n      <td>25</td>\n    </tr>\n    <tr>\n      <th>1</th>\n      <td>11</td>\n      <td>32</td>\n      <td>22</td>\n    </tr>\n    <tr>\n      <th>2</th>\n      <td>10</td>\n      <td>10</td>\n      <td>10</td>\n    </tr>\n    <tr>\n      <th>3</th>\n      <td>5</td>\n      <td>10</td>\n      <td>7</td>\n    </tr>\n    <tr>\n      <th>4</th>\n      <td>18</td>\n      <td>10</td>\n      <td>14</td>\n    </tr>\n    <tr>\n      <th>5</th>\n      <td>30</td>\n      <td>20</td>\n      <td>25</td>\n    </tr>\n    <tr>\n      <th>6</th>\n      <td>11</td>\n      <td>24</td>\n      <td>18</td>\n    </tr>\n    <tr>\n      <th>7</th>\n      <td>20</td>\n      <td>10</td>\n      <td>15</td>\n    </tr>\n    <tr>\n      <th>8</th>\n      <td>7</td>\n      <td>10</td>\n      <td>9</td>\n    </tr>\n  </tbody>\n</table>\n</div>",
      "text/plain": "   often  rare  mean\n0     26    24    25\n1     11    32    22\n2     10    10    10\n3      5    10     7\n4     18    10    14\n5     30    20    25\n6     11    24    18\n7     20    10    15\n8      7    10     9"
     },
     "execution_count": 272,
     "metadata": {},
     "output_type": "execute_result"
    }
   ],
   "source": [
    "##Extracting the numerical features from the dataset\r\n",
    "numeric_features= data.select_dtypes(include= ['int64', 'float64'])\r\n",
    "numeric_features"
   ]
  },
  {
   "cell_type": "code",
   "execution_count": 238,
   "metadata": {},
   "outputs": [
    {
     "data": {
      "text/html": "<div>\n<style scoped>\n    .dataframe tbody tr th:only-of-type {\n        vertical-align: middle;\n    }\n\n    .dataframe tbody tr th {\n        vertical-align: top;\n    }\n\n    .dataframe thead th {\n        text-align: right;\n    }\n</style>\n<table border=\"1\" class=\"dataframe\">\n  <thead>\n    <tr style=\"text-align: right;\">\n      <th></th>\n      <th>activities</th>\n      <th>good_ok</th>\n    </tr>\n  </thead>\n  <tbody>\n    <tr>\n      <th>0</th>\n      <td>bath</td>\n      <td>good</td>\n    </tr>\n    <tr>\n      <th>1</th>\n      <td>music</td>\n      <td>good</td>\n    </tr>\n    <tr>\n      <th>2</th>\n      <td>sex</td>\n      <td>good</td>\n    </tr>\n    <tr>\n      <th>3</th>\n      <td>pray</td>\n      <td>ok</td>\n    </tr>\n    <tr>\n      <th>4</th>\n      <td>read</td>\n      <td>good</td>\n    </tr>\n    <tr>\n      <th>5</th>\n      <td>exercise</td>\n      <td>good</td>\n    </tr>\n    <tr>\n      <th>6</th>\n      <td>alcohol</td>\n      <td>ok</td>\n    </tr>\n    <tr>\n      <th>7</th>\n      <td>talking_to_spouse</td>\n      <td>ok</td>\n    </tr>\n    <tr>\n      <th>8</th>\n      <td>medication</td>\n      <td>ok</td>\n    </tr>\n  </tbody>\n</table>\n</div>",
      "text/plain": "          activities good_ok\n0               bath    good\n1              music    good\n2                sex    good\n3               pray      ok\n4               read    good\n5           exercise    good\n6            alcohol      ok\n7  talking_to_spouse      ok\n8         medication      ok"
     },
     "execution_count": 238,
     "metadata": {},
     "output_type": "execute_result"
    }
   ],
   "source": [
    "##Extracting the categorical features from the dataset\r\n",
    "categorical_features= data.select_dtypes(include= ['object'])\r\n",
    "categorical_features"
   ]
  },
  {
   "cell_type": "code",
   "execution_count": 273,
   "metadata": {},
   "outputs": [
    {
     "name": "stdout",
     "output_type": "stream",
     "text": [
      "<class 'pandas.core.frame.DataFrame'>\n",
      "RangeIndex: 9 entries, 0 to 8\n",
      "Data columns (total 5 columns):\n",
      " #   Column      Non-Null Count  Dtype \n",
      "---  ------      --------------  ----- \n",
      " 0   activities  9 non-null      object\n",
      " 1   often       9 non-null      int64 \n",
      " 2   rare        9 non-null      int64 \n",
      " 3   mean        9 non-null      int64 \n",
      " 4   good_ok     9 non-null      object\n",
      "dtypes: int64(3), object(2)\n",
      "memory usage: 488.0+ bytes\n"
     ]
    }
   ],
   "source": [
    "##Check the data type of each feature (int, float, object)\r\n",
    "data.info()"
   ]
  },
  {
   "cell_type": "code",
   "execution_count": 274,
   "metadata": {},
   "outputs": [],
   "source": [
    "##Check if there are any missing values in the dataset\r\n",
    "for col in data:\r\n",
    "    missing_values= data[col].isna().sum()\r\n",
    "    if(missing_values>0):\r\n",
    "        print('{} {}'.format(col, missing_values))"
   ]
  },
  {
   "cell_type": "code",
   "execution_count": 275,
   "metadata": {},
   "outputs": [
    {
     "data": {
      "text/plain": "good    5\nok      4\nName: good_ok, dtype: int64"
     },
     "execution_count": 275,
     "metadata": {},
     "output_type": "execute_result"
    }
   ],
   "source": [
    "##Check the number of samples for each category in the target variable\r\n",
    "data['good_ok'].value_counts()"
   ]
  },
  {
   "cell_type": "code",
   "execution_count": 276,
   "metadata": {},
   "outputs": [
    {
     "data": {
      "text/plain": "<AxesSubplot:>"
     },
     "execution_count": 276,
     "metadata": {},
     "output_type": "execute_result"
    },
    {
     "data": {
      "image/png": "[encoded data removed]",
      "text/plain": "<Figure size 432x288 with 1 Axes>"
     },
     "metadata": {
      "needs_background": "light"
     },
     "output_type": "display_data"
    }
   ],
   "source": [
    "##Barplot to visualize the number of samples for each category in the target variable\r\n",
    "data['good_ok'].value_counts().plot.bar( rot=30, color=\"green\", width=0.5)"
   ]
  },
  {
   "cell_type": "code",
   "execution_count": 277,
   "metadata": {},
   "outputs": [],
   "source": [
    "numeric_features = data.select_dtypes(include= ['int64', 'float64'])\r\n",
    "categorical_features = data.select_dtypes(include= ['object'])"
   ]
  },
  {
   "cell_type": "code",
   "execution_count": 278,
   "metadata": {},
   "outputs": [
    {
     "data": {
      "text/plain": "0"
     },
     "execution_count": 278,
     "metadata": {},
     "output_type": "execute_result"
    }
   ],
   "source": [
    "impute_it = IterativeImputer()\r\n",
    "\r\n",
    "numeric_features= impute_it.fit_transform(numeric_features)\r\n",
    "numeric_features= pd.DataFrame(numeric_features)\r\n",
    "numeric_features.columns= data.select_dtypes(include= ['int64', 'float64']).columns.tolist()\r\n",
    "\r\n",
    "data[numeric_features.columns]= numeric_features\r\n",
    "\r\n",
    "data.good_ok.isna().sum()"
   ]
  },
  {
   "cell_type": "code",
   "execution_count": 279,
   "metadata": {},
   "outputs": [
    {
     "data": {
      "text/plain": "(9, 4)"
     },
     "execution_count": 279,
     "metadata": {},
     "output_type": "execute_result"
    }
   ],
   "source": [
    "##Dividing data into predictor variables (X) and target variable (y)\r\n",
    "X= data.drop('good_ok', axis=1)\r\n",
    "X.shape"
   ]
  },
  {
   "cell_type": "code",
   "execution_count": 280,
   "metadata": {},
   "outputs": [
    {
     "data": {
      "text/plain": "(9,)"
     },
     "execution_count": 280,
     "metadata": {},
     "output_type": "execute_result"
    }
   ],
   "source": [
    "y= data[\"good_ok\"]\r\n",
    "y.shape"
   ]
  },
  {
   "cell_type": "code",
   "execution_count": 281,
   "metadata": {},
   "outputs": [
    {
     "data": {
      "text/plain": "((7, 4), (2, 4))"
     },
     "execution_count": 281,
     "metadata": {},
     "output_type": "execute_result"
    }
   ],
   "source": [
    "##Dividing dataset into train and test\r\n",
    "\r\n",
    "X_train, X_test, y_train, y_test = train_test_split(X, y, test_size=0.20)\r\n",
    "X_train.shape, X_test.shape\r\n"
   ]
  },
  {
   "cell_type": "code",
   "execution_count": 286,
   "metadata": {},
   "outputs": [],
   "source": [
    "criterion = ['gini', 'entropy']\r\n",
    "splitter= ['best', 'random']\r\n",
    "max_features= [5,10,13,16]\r\n",
    "min_samples_leaf= [50,200,400,600]\r\n",
    "max_depth = [2,4,6,8,10]"
   ]
  },
  {
   "cell_type": "code",
   "execution_count": 287,
   "metadata": {},
   "outputs": [],
   "source": [
    "pipe = Pipeline(steps=[\r\n",
    "    ('dec_tree', classifier)\r\n",
    "])\r\n",
    "\r\n",
    "parameters = dict(dec_tree__criterion =criterion,\r\n",
    "                  dec_tree__splitter = splitter,\r\n",
    "                  dec_tree__max_depth = max_depth,\r\n",
    "                 dec_tree__max_features = max_features,\r\n",
    "                 dec_tree__min_samples_leaf = min_samples_leaf\r\n",
    "                 )"
   ]
  },
  {
   "cell_type": "code",
   "execution_count": 288,
   "metadata": {},
   "outputs": [],
   "source": [
    "classifier_grid_search = GridSearchCV(pipe, parameters, cv=5,n_jobs=-1)"
   ]
  },
  {
   "cell_type": "code",
   "execution_count": 290,
   "metadata": {},
   "outputs": [],
   "source": [
    "y_test_2= y_test.map({'good':1, 'bad':0})"
   ]
  }
 ],
 "metadata": {
  "kernelspec": {
   "display_name": "Python 3.6.13 64-bit ('PythonAdv': conda)",
   "name": "python3613jvsc74a57bd000733e0e9794b387d5a534b3e0db741067f621c43a769d72d1fd2cc1ced8c7fa"
  },
  "language_info": {
   "codemirror_mode": {
    "name": "ipython",
    "version": 3
   },
   "file_extension": ".py",
   "mimetype": "text/x-python",
   "name": "python",
   "nbconvert_exporter": "python",
   "pygments_lexer": "ipython3",
   "version": "3.6.13"
  },
  "orig_nbformat": 2
 },
 "nbformat": 4,
 "nbformat_minor": 2
}