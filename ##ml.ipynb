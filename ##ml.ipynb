{
 "cells": [
  {
   "cell_type": "code",
   "execution_count": 27,
   "metadata": {},
   "outputs": [],
   "source": [
    "import pandas as pd\r\n",
    "%matplotlib inline\r\n",
    "import matplotlib.pyplot as plt\r\n"
   ]
  },
  {
   "cell_type": "code",
   "execution_count": 3,
   "metadata": {},
   "outputs": [
    {
     "data": {
      "text/html": "<div>\n<style scoped>\n    .dataframe tbody tr th:only-of-type {\n        vertical-align: middle;\n    }\n\n    .dataframe tbody tr th {\n        vertical-align: top;\n    }\n\n    .dataframe thead th {\n        text-align: right;\n    }\n</style>\n<table border=\"1\" class=\"dataframe\">\n  <thead>\n    <tr style=\"text-align: right;\">\n      <th></th>\n      <th>activities</th>\n      <th>adeq_sleep</th>\n      <th>devicesBR</th>\n      <th>Rules</th>\n      <th>count_of_devicesBR</th>\n      <th>count_of_deviceusage_BR</th>\n      <th>sleep_more_imapct</th>\n      <th>sleep_small_impact</th>\n      <th>usually_enforced</th>\n      <th>sometimes_enforced</th>\n      <th>rating</th>\n      <th>good_bad</th>\n    </tr>\n  </thead>\n  <tbody>\n    <tr>\n      <th>0</th>\n      <td>bath</td>\n      <td>school_performance</td>\n      <td>tv</td>\n      <td>specfic_time_to_bed</td>\n      <td>1</td>\n      <td>62</td>\n      <td>54</td>\n      <td>80</td>\n      <td>55</td>\n      <td>40</td>\n      <td>1</td>\n      <td>good</td>\n    </tr>\n    <tr>\n      <th>1</th>\n      <td>music</td>\n      <td>mood</td>\n      <td>smartphone</td>\n      <td>watch_devices_late</td>\n      <td>2</td>\n      <td>75</td>\n      <td>60</td>\n      <td>90</td>\n      <td>66</td>\n      <td>40</td>\n      <td>1</td>\n      <td>good</td>\n    </tr>\n    <tr>\n      <th>2</th>\n      <td>sex</td>\n      <td>behaviour</td>\n      <td>ipad_tablet</td>\n      <td>homework</td>\n      <td>3</td>\n      <td>60</td>\n      <td>40</td>\n      <td>88</td>\n      <td>55</td>\n      <td>30</td>\n      <td>1</td>\n      <td>good</td>\n    </tr>\n    <tr>\n      <th>3</th>\n      <td>pray</td>\n      <td>quality_of_life</td>\n      <td>videogame</td>\n      <td>play_games_late</td>\n      <td>4</td>\n      <td>70</td>\n      <td>55</td>\n      <td>85</td>\n      <td>76</td>\n      <td>20</td>\n      <td>1</td>\n      <td>good</td>\n    </tr>\n    <tr>\n      <th>4</th>\n      <td>read</td>\n      <td>active</td>\n      <td>computer</td>\n      <td>follow_dinner_time</td>\n      <td>5</td>\n      <td>67</td>\n      <td>60</td>\n      <td>45</td>\n      <td>70</td>\n      <td>20</td>\n      <td>0</td>\n      <td>bad</td>\n    </tr>\n    <tr>\n      <th>5</th>\n      <td>exercise</td>\n      <td>extra lessons</td>\n      <td>laptop</td>\n      <td>follow_bed_time</td>\n      <td>6</td>\n      <td>25</td>\n      <td>66</td>\n      <td>45</td>\n      <td>55</td>\n      <td>10</td>\n      <td>0</td>\n      <td>bad</td>\n    </tr>\n    <tr>\n      <th>6</th>\n      <td>alcohol</td>\n      <td>send_read_textinbed</td>\n      <td>mp3</td>\n      <td>devices_on_off</td>\n      <td>7</td>\n      <td>20</td>\n      <td>70</td>\n      <td>30</td>\n      <td>60</td>\n      <td>40</td>\n      <td>0</td>\n      <td>bad</td>\n    </tr>\n    <tr>\n      <th>7</th>\n      <td>talking_to_spouse</td>\n      <td>pets</td>\n      <td>0</td>\n      <td>0</td>\n      <td>0</td>\n      <td>0</td>\n      <td>45</td>\n      <td>60</td>\n      <td>0</td>\n      <td>0</td>\n      <td>1</td>\n      <td>good</td>\n    </tr>\n    <tr>\n      <th>8</th>\n      <td>medication</td>\n      <td>lighting_temp</td>\n      <td>0</td>\n      <td>0</td>\n      <td>0</td>\n      <td>0</td>\n      <td>60</td>\n      <td>30</td>\n      <td>0</td>\n      <td>0</td>\n      <td>0</td>\n      <td>bad</td>\n    </tr>\n  </tbody>\n</table>\n</div>",
      "text/plain": "          activities           adeq_sleep    devicesBR                Rules  \\\n0               bath   school_performance           tv  specfic_time_to_bed   \n1              music                 mood   smartphone   watch_devices_late   \n2                sex            behaviour  ipad_tablet             homework   \n3               pray      quality_of_life    videogame      play_games_late   \n4               read               active     computer   follow_dinner_time   \n5           exercise        extra lessons       laptop      follow_bed_time   \n6            alcohol  send_read_textinbed          mp3       devices_on_off   \n7  talking_to_spouse                 pets            0                    0   \n8         medication        lighting_temp            0                    0   \n\n   count_of_devicesBR  count_of_deviceusage_BR  sleep_more_imapct  \\\n0                   1                       62                 54   \n1                   2                       75                 60   \n2                   3                       60                 40   \n3                   4                       70                 55   \n4                   5                       67                 60   \n5                   6                       25                 66   \n6                   7                       20                 70   \n7                   0                        0                 45   \n8                   0                        0                 60   \n\n   sleep_small_impact  usually_enforced  sometimes_enforced  rating good_bad  \n0                  80                55                  40       1     good  \n1                  90                66                  40       1     good  \n2                  88                55                  30       1     good  \n3                  85                76                  20       1     good  \n4                  45                70                  20       0      bad  \n5                  45                55                  10       0      bad  \n6                  30                60                  40       0      bad  \n7                  60                 0                   0       1     good  \n8                  30                 0                   0       0      bad  "
     },
     "execution_count": 3,
     "metadata": {},
     "output_type": "execute_result"
    }
   ],
   "source": [
    "df = pd.read_csv(\"activities.csv\")\r\n",
    "df.head(10)"
   ]
  },
  {
   "cell_type": "code",
   "execution_count": 4,
   "metadata": {},
   "outputs": [
    {
     "data": {
      "text/html": "<div>\n<style scoped>\n    .dataframe tbody tr th:only-of-type {\n        vertical-align: middle;\n    }\n\n    .dataframe tbody tr th {\n        vertical-align: top;\n    }\n\n    .dataframe thead th {\n        text-align: right;\n    }\n</style>\n<table border=\"1\" class=\"dataframe\">\n  <thead>\n    <tr style=\"text-align: right;\">\n      <th></th>\n      <th>activities</th>\n      <th>adeq_sleep</th>\n      <th>devicesBR</th>\n      <th>Rules</th>\n      <th>count_of_devicesBR</th>\n      <th>count_of_deviceusage_BR</th>\n      <th>sleep_more_imapct</th>\n      <th>sleep_small_impact</th>\n      <th>usually_enforced</th>\n      <th>sometimes_enforced</th>\n      <th>rating</th>\n      <th>good_bad</th>\n    </tr>\n  </thead>\n  <tbody>\n    <tr>\n      <th>0</th>\n      <td>bath</td>\n      <td>school_performance</td>\n      <td>tv</td>\n      <td>specfic_time_to_bed</td>\n      <td>1</td>\n      <td>62</td>\n      <td>54</td>\n      <td>80</td>\n      <td>55</td>\n      <td>40</td>\n      <td>1</td>\n      <td>good</td>\n    </tr>\n    <tr>\n      <th>1</th>\n      <td>music</td>\n      <td>mood</td>\n      <td>smartphone</td>\n      <td>watch_devices_late</td>\n      <td>2</td>\n      <td>75</td>\n      <td>60</td>\n      <td>90</td>\n      <td>66</td>\n      <td>40</td>\n      <td>1</td>\n      <td>good</td>\n    </tr>\n    <tr>\n      <th>2</th>\n      <td>sex</td>\n      <td>behaviour</td>\n      <td>ipad_tablet</td>\n      <td>homework</td>\n      <td>3</td>\n      <td>60</td>\n      <td>40</td>\n      <td>88</td>\n      <td>55</td>\n      <td>30</td>\n      <td>1</td>\n      <td>good</td>\n    </tr>\n    <tr>\n      <th>3</th>\n      <td>pray</td>\n      <td>quality_of_life</td>\n      <td>videogame</td>\n      <td>play_games_late</td>\n      <td>4</td>\n      <td>70</td>\n      <td>55</td>\n      <td>85</td>\n      <td>76</td>\n      <td>20</td>\n      <td>1</td>\n      <td>good</td>\n    </tr>\n    <tr>\n      <th>4</th>\n      <td>read</td>\n      <td>active</td>\n      <td>computer</td>\n      <td>follow_dinner_time</td>\n      <td>5</td>\n      <td>67</td>\n      <td>60</td>\n      <td>45</td>\n      <td>70</td>\n      <td>20</td>\n      <td>0</td>\n      <td>bad</td>\n    </tr>\n    <tr>\n      <th>5</th>\n      <td>exercise</td>\n      <td>extra lessons</td>\n      <td>laptop</td>\n      <td>follow_bed_time</td>\n      <td>6</td>\n      <td>25</td>\n      <td>66</td>\n      <td>45</td>\n      <td>55</td>\n      <td>10</td>\n      <td>0</td>\n      <td>bad</td>\n    </tr>\n    <tr>\n      <th>6</th>\n      <td>alcohol</td>\n      <td>send_read_textinbed</td>\n      <td>mp3</td>\n      <td>devices_on_off</td>\n      <td>7</td>\n      <td>20</td>\n      <td>70</td>\n      <td>30</td>\n      <td>60</td>\n      <td>40</td>\n      <td>0</td>\n      <td>bad</td>\n    </tr>\n    <tr>\n      <th>7</th>\n      <td>talking_to_spouse</td>\n      <td>pets</td>\n      <td>0</td>\n      <td>0</td>\n      <td>0</td>\n      <td>0</td>\n      <td>45</td>\n      <td>60</td>\n      <td>0</td>\n      <td>0</td>\n      <td>1</td>\n      <td>good</td>\n    </tr>\n    <tr>\n      <th>8</th>\n      <td>medication</td>\n      <td>lighting_temp</td>\n      <td>0</td>\n      <td>0</td>\n      <td>0</td>\n      <td>0</td>\n      <td>60</td>\n      <td>30</td>\n      <td>0</td>\n      <td>0</td>\n      <td>0</td>\n      <td>bad</td>\n    </tr>\n  </tbody>\n</table>\n</div>",
      "text/plain": "          activities           adeq_sleep    devicesBR                Rules  \\\n0               bath   school_performance           tv  specfic_time_to_bed   \n1              music                 mood   smartphone   watch_devices_late   \n2                sex            behaviour  ipad_tablet             homework   \n3               pray      quality_of_life    videogame      play_games_late   \n4               read               active     computer   follow_dinner_time   \n5           exercise        extra lessons       laptop      follow_bed_time   \n6            alcohol  send_read_textinbed          mp3       devices_on_off   \n7  talking_to_spouse                 pets            0                    0   \n8         medication        lighting_temp            0                    0   \n\n   count_of_devicesBR  count_of_deviceusage_BR  sleep_more_imapct  \\\n0                   1                       62                 54   \n1                   2                       75                 60   \n2                   3                       60                 40   \n3                   4                       70                 55   \n4                   5                       67                 60   \n5                   6                       25                 66   \n6                   7                       20                 70   \n7                   0                        0                 45   \n8                   0                        0                 60   \n\n   sleep_small_impact  usually_enforced  sometimes_enforced  rating good_bad  \n0                  80                55                  40       1     good  \n1                  90                66                  40       1     good  \n2                  88                55                  30       1     good  \n3                  85                76                  20       1     good  \n4                  45                70                  20       0      bad  \n5                  45                55                  10       0      bad  \n6                  30                60                  40       0      bad  \n7                  60                 0                   0       1     good  \n8                  30                 0                   0       0      bad  "
     },
     "execution_count": 4,
     "metadata": {},
     "output_type": "execute_result"
    }
   ],
   "source": [
    "df = df.dropna()\r\n",
    "df = df.drop_duplicates()\r\n",
    "df.head(10)"
   ]
  },
  {
   "cell_type": "code",
   "execution_count": 5,
   "metadata": {},
   "outputs": [],
   "source": [
    "inputs = df.drop('good_bad',axis='columns')"
   ]
  },
  {
   "cell_type": "code",
   "execution_count": 6,
   "metadata": {},
   "outputs": [],
   "source": [
    "target = df['good_bad']"
   ]
  },
  {
   "cell_type": "code",
   "execution_count": 7,
   "metadata": {},
   "outputs": [
    {
     "data": {
      "text/plain": "<AxesSubplot:>"
     },
     "execution_count": 7,
     "metadata": {},
     "output_type": "execute_result"
    },
    {
     "data": {
      "image/png": "[encoded data removed]",
      "text/plain": "<Figure size 432x288 with 1 Axes>"
     },
     "metadata": {
      "needs_background": "light"
     },
     "output_type": "display_data"
    }
   ],
   "source": [
    "##Barplot to visualize the number of samples for each category in the target variable\r\n",
    "df['good_bad'].value_counts().plot.bar( rot=30, color=\"green\", width=0.5)"
   ]
  },
  {
   "cell_type": "code",
   "execution_count": 8,
   "metadata": {},
   "outputs": [],
   "source": [
    "from sklearn.preprocessing import LabelEncoder\r\n",
    "le_activities = LabelEncoder()\r\n",
    "le_adeq_sleep = LabelEncoder()\r\n",
    "le_devicesBR = LabelEncoder()\r\n",
    "le_Rules = LabelEncoder()\r\n",
    "le_count_of_devicesBR = LabelEncoder()\r\n",
    "le_count_of_deviceusage_BR = LabelEncoder()\r\n",
    "le_sleep_more_imapct = LabelEncoder()\r\n",
    "le_sleep_small_impact = LabelEncoder()\r\n",
    "le_usually_enforced = LabelEncoder()\r\n",
    "le_sometimes_enforced = LabelEncoder()\r\n",
    "le_rating = LabelEncoder()"
   ]
  },
  {
   "cell_type": "code",
   "execution_count": 9,
   "metadata": {},
   "outputs": [],
   "source": [
    "inputs['activities'] = le_activities.fit_transform(inputs['activities'])\r\n",
    "inputs['adeq_sleep'] = le_adeq_sleep.fit_transform(inputs['adeq_sleep'])\r\n",
    "inputs['devicesBR'] = le_devicesBR.fit_transform(inputs['devicesBR'])\r\n",
    "inputs['Rules'] = le_Rules.fit_transform(inputs['Rules'])\r\n",
    "inputs['count_of_devicesBR'] = le_count_of_devicesBR.fit_transform(inputs['count_of_devicesBR'])\r\n",
    "inputs['count_of_deviceusage_BR'] = le_count_of_deviceusage_BR.fit_transform(inputs['count_of_deviceusage_BR'])\r\n",
    "inputs['sleep_more_imapct'] = le_sleep_more_imapct.fit_transform(inputs['sleep_more_imapct'])\r\n",
    "inputs['sleep_small_impact'] = le_sleep_small_impact.fit_transform(inputs['sleep_small_impact'])\r\n",
    "inputs['usually_enforced'] = le_usually_enforced.fit_transform(inputs['usually_enforced'])\r\n",
    "inputs['sometimes_enforced'] = le_sometimes_enforced.fit_transform(inputs['sometimes_enforced'])\r\n",
    "inputs['rating'] = le_rating.fit_transform(inputs['rating'])\r\n"
   ]
  },
  {
   "cell_type": "code",
   "execution_count": 10,
   "metadata": {},
   "outputs": [
    {
     "data": {
      "text/html": "<div>\n<style scoped>\n    .dataframe tbody tr th:only-of-type {\n        vertical-align: middle;\n    }\n\n    .dataframe tbody tr th {\n        vertical-align: top;\n    }\n\n    .dataframe thead th {\n        text-align: right;\n    }\n</style>\n<table border=\"1\" class=\"dataframe\">\n  <thead>\n    <tr style=\"text-align: right;\">\n      <th></th>\n      <th>activities</th>\n      <th>adeq_sleep</th>\n      <th>devicesBR</th>\n      <th>Rules</th>\n      <th>count_of_devicesBR</th>\n      <th>count_of_deviceusage_BR</th>\n      <th>sleep_more_imapct</th>\n      <th>sleep_small_impact</th>\n      <th>usually_enforced</th>\n      <th>sometimes_enforced</th>\n      <th>rating</th>\n    </tr>\n  </thead>\n  <tbody>\n    <tr>\n      <th>0</th>\n      <td>1</td>\n      <td>7</td>\n      <td>6</td>\n      <td>6</td>\n      <td>1</td>\n      <td>4</td>\n      <td>2</td>\n      <td>3</td>\n      <td>1</td>\n      <td>4</td>\n      <td>1</td>\n    </tr>\n    <tr>\n      <th>1</th>\n      <td>4</td>\n      <td>4</td>\n      <td>5</td>\n      <td>7</td>\n      <td>2</td>\n      <td>7</td>\n      <td>4</td>\n      <td>6</td>\n      <td>3</td>\n      <td>4</td>\n      <td>1</td>\n    </tr>\n    <tr>\n      <th>2</th>\n      <td>7</td>\n      <td>1</td>\n      <td>2</td>\n      <td>4</td>\n      <td>3</td>\n      <td>3</td>\n      <td>0</td>\n      <td>5</td>\n      <td>1</td>\n      <td>3</td>\n      <td>1</td>\n    </tr>\n    <tr>\n      <th>3</th>\n      <td>5</td>\n      <td>6</td>\n      <td>7</td>\n      <td>5</td>\n      <td>4</td>\n      <td>6</td>\n      <td>3</td>\n      <td>4</td>\n      <td>5</td>\n      <td>2</td>\n      <td>1</td>\n    </tr>\n    <tr>\n      <th>4</th>\n      <td>6</td>\n      <td>0</td>\n      <td>1</td>\n      <td>3</td>\n      <td>5</td>\n      <td>5</td>\n      <td>4</td>\n      <td>1</td>\n      <td>4</td>\n      <td>2</td>\n      <td>0</td>\n    </tr>\n    <tr>\n      <th>5</th>\n      <td>2</td>\n      <td>2</td>\n      <td>3</td>\n      <td>2</td>\n      <td>6</td>\n      <td>2</td>\n      <td>5</td>\n      <td>1</td>\n      <td>1</td>\n      <td>1</td>\n      <td>0</td>\n    </tr>\n    <tr>\n      <th>6</th>\n      <td>0</td>\n      <td>8</td>\n      <td>4</td>\n      <td>1</td>\n      <td>7</td>\n      <td>1</td>\n      <td>6</td>\n      <td>0</td>\n      <td>2</td>\n      <td>4</td>\n      <td>0</td>\n    </tr>\n    <tr>\n      <th>7</th>\n      <td>8</td>\n      <td>5</td>\n      <td>0</td>\n      <td>0</td>\n      <td>0</td>\n      <td>0</td>\n      <td>1</td>\n      <td>2</td>\n      <td>0</td>\n      <td>0</td>\n      <td>1</td>\n    </tr>\n    <tr>\n      <th>8</th>\n      <td>3</td>\n      <td>3</td>\n      <td>0</td>\n      <td>0</td>\n      <td>0</td>\n      <td>0</td>\n      <td>4</td>\n      <td>0</td>\n      <td>0</td>\n      <td>0</td>\n      <td>0</td>\n    </tr>\n  </tbody>\n</table>\n</div>",
      "text/plain": "   activities  adeq_sleep  devicesBR  Rules  count_of_devicesBR  \\\n0           1           7          6      6                   1   \n1           4           4          5      7                   2   \n2           7           1          2      4                   3   \n3           5           6          7      5                   4   \n4           6           0          1      3                   5   \n5           2           2          3      2                   6   \n6           0           8          4      1                   7   \n7           8           5          0      0                   0   \n8           3           3          0      0                   0   \n\n   count_of_deviceusage_BR  sleep_more_imapct  sleep_small_impact  \\\n0                        4                  2                   3   \n1                        7                  4                   6   \n2                        3                  0                   5   \n3                        6                  3                   4   \n4                        5                  4                   1   \n5                        2                  5                   1   \n6                        1                  6                   0   \n7                        0                  1                   2   \n8                        0                  4                   0   \n\n   usually_enforced  sometimes_enforced  rating  \n0                 1                   4       1  \n1                 3                   4       1  \n2                 1                   3       1  \n3                 5                   2       1  \n4                 4                   2       0  \n5                 1                   1       0  \n6                 2                   4       0  \n7                 0                   0       1  \n8                 0                   0       0  "
     },
     "execution_count": 10,
     "metadata": {},
     "output_type": "execute_result"
    }
   ],
   "source": [
    "inputs"
   ]
  },
  {
   "cell_type": "code",
   "execution_count": 11,
   "metadata": {},
   "outputs": [
    {
     "data": {
      "text/plain": "0    good\n1    good\n2    good\n3    good\n4     bad\n5     bad\n6     bad\n7    good\n8     bad\nName: good_bad, dtype: object"
     },
     "execution_count": 11,
     "metadata": {},
     "output_type": "execute_result"
    }
   ],
   "source": [
    "target"
   ]
  },
  {
   "cell_type": "code",
   "execution_count": 12,
   "metadata": {},
   "outputs": [],
   "source": [
    "from sklearn import tree\r\n",
    "model = tree.DecisionTreeClassifier()"
   ]
  },
  {
   "cell_type": "code",
   "execution_count": 13,
   "metadata": {},
   "outputs": [
    {
     "data": {
      "text/plain": "DecisionTreeClassifier()"
     },
     "execution_count": 13,
     "metadata": {},
     "output_type": "execute_result"
    }
   ],
   "source": [
    "model.fit(inputs, target)"
   ]
  },
  {
   "cell_type": "code",
   "execution_count": 14,
   "metadata": {},
   "outputs": [
    {
     "data": {
      "text/plain": "1.0"
     },
     "execution_count": 14,
     "metadata": {},
     "output_type": "execute_result"
    }
   ],
   "source": [
    "model.score(inputs,target)"
   ]
  },
  {
   "cell_type": "code",
   "execution_count": 15,
   "metadata": {},
   "outputs": [
    {
     "data": {
      "text/plain": "<matplotlib.collections.PathCollection at 0x21a8449a630>"
     },
     "execution_count": 15,
     "metadata": {},
     "output_type": "execute_result"
    },
    {
     "data": {
      "image/png": "[encoded data removed]",
      "text/plain": "<Figure size 432x288 with 1 Axes>"
     },
     "metadata": {
      "needs_background": "light"
     },
     "output_type": "display_data"
    }
   ],
   "source": [
    "from sklearn.datasets import make_regression\r\n",
    "\r\n",
    "inputs, target = make_regression(n_samples=11, n_features=1, bias=100)\r\n",
    "plt.scatter(inputs, target)"
   ]
  },
  {
   "cell_type": "code",
   "execution_count": 16,
   "metadata": {},
   "outputs": [],
   "source": [
    "###The response or output is directly proportional to the input We can see from the data that we have a linear trend in our model. \r\n",
    "# (The response or output is directly proportional to the input) We can use Linear Regression to fit a line through the data."
   ]
  },
  {
   "cell_type": "code",
   "execution_count": 17,
   "metadata": {},
   "outputs": [
    {
     "data": {
      "text/plain": "array(['good'], dtype=object)"
     },
     "execution_count": 17,
     "metadata": {},
     "output_type": "execute_result"
    }
   ],
   "source": [
    "##Is bath, often, mean rating good ?\r\n",
    "\r\n",
    "model.predict([[1,7,6,6,1,4,2,3,1,4,1]])\r\n"
   ]
  },
  {
   "cell_type": "code",
   "execution_count": 18,
   "metadata": {},
   "outputs": [
    {
     "data": {
      "text/plain": "array(['bad'], dtype=object)"
     },
     "execution_count": 18,
     "metadata": {},
     "output_type": "execute_result"
    }
   ],
   "source": [
    "##having more devices in BR, is it good or bad ?\r\n",
    "\r\n",
    "model.predict([[0,8,4,1,7,1,6,0,2,4,0]])\r\n"
   ]
  },
  {
   "cell_type": "code",
   "execution_count": 19,
   "metadata": {},
   "outputs": [
    {
     "data": {
      "text/plain": "array(['good'], dtype=object)"
     },
     "execution_count": 19,
     "metadata": {},
     "output_type": "execute_result"
    }
   ],
   "source": [
    "## strong rules, is it good or bad ?\r\n",
    "model.predict([[4,4,5,7,2,7,4,6,3,4,1]])"
   ]
  },
  {
   "cell_type": "code",
   "execution_count": 20,
   "metadata": {},
   "outputs": [
    {
     "data": {
      "text/plain": "array(['bad'], dtype=object)"
     },
     "execution_count": 20,
     "metadata": {},
     "output_type": "execute_result"
    }
   ],
   "source": [
    "##is less sleep affecting??\r\n",
    "model.predict([[0,8,4,1,7,1,6,0,2,4,0]])"
   ]
  },
  {
   "cell_type": "code",
   "execution_count": 21,
   "metadata": {},
   "outputs": [],
   "source": [
    "import joblib"
   ]
  },
  {
   "cell_type": "code",
   "execution_count": 22,
   "metadata": {},
   "outputs": [],
   "source": [
    "model = joblib.dump(model,'sleep_analysis.ml')"
   ]
  },
  {
   "cell_type": "code",
   "execution_count": 28,
   "metadata": {},
   "outputs": [
    {
     "name": "stdout",
     "output_type": "stream",
     "text": [
      "Collecting Flask\n",
      "  Downloading Flask-2.0.1-py3-none-any.whl (94 kB)\n",
      "Collecting itsdangerous>=2.0\n",
      "  Downloading itsdangerous-2.0.1-py3-none-any.whl (18 kB)\n",
      "Collecting Werkzeug>=2.0\n",
      "  Downloading Werkzeug-2.0.1-py3-none-any.whl (288 kB)\n",
      "Requirement already satisfied: click>=7.1.2 in c:\\users\\praveena\\anaconda3\\envs\\pythonadv\\lib\\site-packages (from Flask) (7.1.2)\n",
      "Collecting Jinja2>=3.0\n",
      "  Downloading Jinja2-3.0.1-py3-none-any.whl (133 kB)\n",
      "Collecting MarkupSafe>=2.0\n",
      "  Downloading MarkupSafe-2.0.1-cp36-cp36m-win_amd64.whl (14 kB)\n",
      "Collecting dataclasses\n",
      "  Downloading dataclasses-0.8-py3-none-any.whl (19 kB)\n",
      "Installing collected packages: MarkupSafe, dataclasses, Werkzeug, Jinja2, itsdangerous, Flask\n",
      "  Attempting uninstall: MarkupSafe\n",
      "    Found existing installation: MarkupSafe 1.1.1\n",
      "    Uninstalling MarkupSafe-1.1.1:\n",
      "      Successfully uninstalled MarkupSafe-1.1.1\n",
      "  Attempting uninstall: Werkzeug\n",
      "    Found existing installation: Werkzeug 0.16.1\n",
      "    Uninstalling Werkzeug-0.16.1:\n",
      "      Successfully uninstalled Werkzeug-0.16.1\n",
      "  Attempting uninstall: Jinja2\n",
      "    Found existing installation: Jinja2 2.11.3\n",
      "    Uninstalling Jinja2-2.11.3:\n",
      "      Successfully uninstalled Jinja2-2.11.3\n",
      "Successfully installed Flask-2.0.1 Jinja2-3.0.1 MarkupSafe-2.0.1 Werkzeug-2.0.1 dataclasses-0.8 itsdangerous-2.0.1\n",
      "Note: you may need to restart the kernel to use updated packages.\n"
     ]
    },
    {
     "name": "stderr",
     "output_type": "stream",
     "text": [
      "  WARNING: The script flask.exe is installed in 'C:\\Users\\Praveena\\anaconda3\\envs\\PythonAdv\\Scripts' which is not on PATH.\n",
      "  Consider adding this directory to PATH or, if you prefer to suppress this warning, use --no-warn-script-location.\n"
     ]
    }
   ],
   "source": [
    "pip install Flask"
   ]
  },
  {
   "cell_type": "code",
   "execution_count": 29,
   "metadata": {},
   "outputs": [
    {
     "name": "stdout",
     "output_type": "stream",
     "text": [
      "Collecting Flask-Cors==1.10.3\n",
      "  Using cached Flask-Cors-1.10.3.tar.gz (28 kB)\n",
      "Requirement already satisfied: Flask>=0.9 in c:\\users\\praveena\\anaconda3\\envs\\pythonadv\\lib\\site-packages (from Flask-Cors==1.10.3) (2.0.1)\n",
      "Requirement already satisfied: Six in c:\\users\\praveena\\anaconda3\\envs\\pythonadv\\lib\\site-packages (from Flask-Cors==1.10.3) (1.15.0)\n",
      "Requirement already satisfied: itsdangerous>=2.0 in c:\\users\\praveena\\anaconda3\\envs\\pythonadv\\lib\\site-packages (from Flask>=0.9->Flask-Cors==1.10.3) (2.0.1)\n",
      "Requirement already satisfied: click>=7.1.2 in c:\\users\\praveena\\anaconda3\\envs\\pythonadv\\lib\\site-packages (from Flask>=0.9->Flask-Cors==1.10.3) (7.1.2)\n",
      "Requirement already satisfied: Jinja2>=3.0 in c:\\users\\praveena\\anaconda3\\envs\\pythonadv\\lib\\site-packages (from Flask>=0.9->Flask-Cors==1.10.3) (3.0.1)\n",
      "Requirement already satisfied: Werkzeug>=2.0 in c:\\users\\praveena\\anaconda3\\envs\\pythonadv\\lib\\site-packages (from Flask>=0.9->Flask-Cors==1.10.3) (2.0.1)\n",
      "Requirement already satisfied: MarkupSafe>=2.0 in c:\\users\\praveena\\anaconda3\\envs\\pythonadv\\lib\\site-packages (from Jinja2>=3.0->Flask>=0.9->Flask-Cors==1.10.3) (2.0.1)\n",
      "Requirement already satisfied: dataclasses in c:\\users\\praveena\\anaconda3\\envs\\pythonadv\\lib\\site-packages (from Werkzeug>=2.0->Flask>=0.9->Flask-Cors==1.10.3) (0.8)\n",
      "Building wheels for collected packages: Flask-Cors\n",
      "  Building wheel for Flask-Cors (setup.py): started\n",
      "  Building wheel for Flask-Cors (setup.py): finished with status 'done'\n",
      "  Created wheel for Flask-Cors: filename=Flask_Cors-1.10.3-py3-none-any.whl size=11535 sha256=c64b4b82d5c2a23516579d79c7a2ed256bd5aa9bd6099dd38ca4bca4ccaa82c3\n",
      "  Stored in directory: c:\\users\\praveena\\appdata\\local\\pip\\cache\\wheels\\08\\26\\65\\03212d02401765a02cefc934991aca5e98d6c02ae3a9576515\n",
      "Successfully built Flask-Cors\n",
      "Installing collected packages: Flask-Cors\n",
      "Successfully installed Flask-Cors-1.10.3\n",
      "Note: you may need to restart the kernel to use updated packages.\n"
     ]
    }
   ],
   "source": [
    "pip install Flask-Cors==1.10.3"
   ]
  },
  {
   "cell_type": "code",
   "execution_count": 33,
   "metadata": {},
   "outputs": [],
   "source": [
    "import flask\r\n",
    "from flask import request"
   ]
  },
  {
   "cell_type": "code",
   "execution_count": 35,
   "metadata": {},
   "outputs": [],
   "source": [
    "from flask_cors import CORS\r\n"
   ]
  },
  {
   "cell_type": "code",
   "execution_count": null,
   "metadata": {},
   "outputs": [],
   "source": []
  }
 ],
 "metadata": {
  "kernelspec": {
   "display_name": "Python 3.6.13 64-bit ('PythonAdv': conda)",
   "name": "python3613jvsc74a57bd000733e0e9794b387d5a534b3e0db741067f621c43a769d72d1fd2cc1ced8c7fa"
  },
  "language_info": {
   "codemirror_mode": {
    "name": "ipython",
    "version": 3
   },
   "file_extension": ".py",
   "mimetype": "text/x-python",
   "name": "python",
   "nbconvert_exporter": "python",
   "pygments_lexer": "ipython3",
   "version": "3.6.13"
  },
  "orig_nbformat": 2
 },
 "nbformat": 4,
 "nbformat_minor": 2
}