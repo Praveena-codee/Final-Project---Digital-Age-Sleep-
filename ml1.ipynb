{
 "cells": [
  {
   "cell_type": "code",
   "execution_count": 1,
   "metadata": {},
   "outputs": [],
   "source": [
    "## import dependenacies\r\n",
    "import pandas as pd\r\n",
    "#%matplotlib inline\r\n",
    "import matplotlib.pyplot as plt\r\n",
    "import flask\r\n",
    "from flask import request\r\n",
    "from flask_cors import CORS\r\n",
    "import pickle\r\n"
   ]
  },
  {
   "cell_type": "code",
   "execution_count": 2,
   "metadata": {},
   "outputs": [
    {
     "data": {
      "text/html": "<div>\n<style scoped>\n    .dataframe tbody tr th:only-of-type {\n        vertical-align: middle;\n    }\n\n    .dataframe tbody tr th {\n        vertical-align: top;\n    }\n\n    .dataframe thead th {\n        text-align: right;\n    }\n</style>\n<table border=\"1\" class=\"dataframe\">\n  <thead>\n    <tr style=\"text-align: right;\">\n      <th></th>\n      <th>activities</th>\n      <th>devicesBR</th>\n      <th>devicescount</th>\n      <th>usage</th>\n      <th>Rules</th>\n      <th>enforce</th>\n      <th>behaviour</th>\n      <th>rate</th>\n      <th>ratesleep</th>\n    </tr>\n  </thead>\n  <tbody>\n    <tr>\n      <th>0</th>\n      <td>bath</td>\n      <td>tv</td>\n      <td>1</td>\n      <td>frequently</td>\n      <td>bedtime</td>\n      <td>yes</td>\n      <td>schoolperformance</td>\n      <td>10</td>\n      <td>good</td>\n    </tr>\n    <tr>\n      <th>1</th>\n      <td>music</td>\n      <td>smartphone</td>\n      <td>2</td>\n      <td>sometimes</td>\n      <td>wakeuptime</td>\n      <td>no</td>\n      <td>mood</td>\n      <td>9</td>\n      <td>good</td>\n    </tr>\n    <tr>\n      <th>2</th>\n      <td>sex</td>\n      <td>ipad_tablet</td>\n      <td>3</td>\n      <td>never</td>\n      <td>dinnertime</td>\n      <td>yes</td>\n      <td>behaviour</td>\n      <td>8</td>\n      <td>good</td>\n    </tr>\n    <tr>\n      <th>3</th>\n      <td>pray</td>\n      <td>videogame</td>\n      <td>4</td>\n      <td>frequently</td>\n      <td>textinbed</td>\n      <td>no</td>\n      <td>qualitylife</td>\n      <td>7</td>\n      <td>ok</td>\n    </tr>\n    <tr>\n      <th>4</th>\n      <td>read</td>\n      <td>computer</td>\n      <td>5</td>\n      <td>sometimes</td>\n      <td>onoff</td>\n      <td>yes</td>\n      <td>active</td>\n      <td>6</td>\n      <td>ok</td>\n    </tr>\n    <tr>\n      <th>5</th>\n      <td>exercise</td>\n      <td>laptop</td>\n      <td>6</td>\n      <td>never</td>\n      <td>homework_late</td>\n      <td>no</td>\n      <td>extralessons</td>\n      <td>5</td>\n      <td>bad</td>\n    </tr>\n    <tr>\n      <th>6</th>\n      <td>alcohol</td>\n      <td>mp3</td>\n      <td>7</td>\n      <td>frequently</td>\n      <td>musiclate</td>\n      <td>yes</td>\n      <td>phoneinbed</td>\n      <td>4</td>\n      <td>bad</td>\n    </tr>\n    <tr>\n      <th>7</th>\n      <td>spouse</td>\n      <td>musicgadgets</td>\n      <td>8</td>\n      <td>sometimes</td>\n      <td>gameslate</td>\n      <td>no</td>\n      <td>pets</td>\n      <td>3</td>\n      <td>bad</td>\n    </tr>\n    <tr>\n      <th>8</th>\n      <td>medication</td>\n      <td>Unknown</td>\n      <td>9</td>\n      <td>never</td>\n      <td>deviceslate</td>\n      <td>yes</td>\n      <td>lightingtemp</td>\n      <td>2</td>\n      <td>bad</td>\n    </tr>\n  </tbody>\n</table>\n</div>",
      "text/plain": "   activities     devicesBR  devicescount       usage          Rules enforce  \\\n0        bath            tv             1  frequently        bedtime     yes   \n1       music    smartphone             2   sometimes     wakeuptime      no   \n2         sex   ipad_tablet             3       never     dinnertime     yes   \n3        pray     videogame             4  frequently      textinbed      no   \n4        read      computer             5   sometimes          onoff     yes   \n5    exercise        laptop             6       never  homework_late      no   \n6     alcohol           mp3             7  frequently      musiclate     yes   \n7      spouse  musicgadgets             8   sometimes      gameslate      no   \n8  medication       Unknown             9       never    deviceslate     yes   \n\n           behaviour  rate ratesleep  \n0  schoolperformance    10      good  \n1               mood     9      good  \n2          behaviour     8      good  \n3        qualitylife     7        ok  \n4             active     6        ok  \n5       extralessons     5       bad  \n6         phoneinbed     4       bad  \n7               pets     3       bad  \n8       lightingtemp     2       bad  "
     },
     "execution_count": 2,
     "metadata": {},
     "output_type": "execute_result"
    }
   ],
   "source": [
    "#### Read the csv file into a pandas DataFrame\r\n",
    "\r\n",
    "df = pd.read_csv(\"activities.csv\")\r\n",
    "df.head(10)"
   ]
  },
  {
   "cell_type": "code",
   "execution_count": 3,
   "metadata": {},
   "outputs": [
    {
     "data": {
      "text/html": "<div>\n<style scoped>\n    .dataframe tbody tr th:only-of-type {\n        vertical-align: middle;\n    }\n\n    .dataframe tbody tr th {\n        vertical-align: top;\n    }\n\n    .dataframe thead th {\n        text-align: right;\n    }\n</style>\n<table border=\"1\" class=\"dataframe\">\n  <thead>\n    <tr style=\"text-align: right;\">\n      <th></th>\n      <th>activities</th>\n      <th>devicesBR</th>\n      <th>devicescount</th>\n      <th>usage</th>\n      <th>Rules</th>\n      <th>enforce</th>\n      <th>behaviour</th>\n      <th>rate</th>\n      <th>ratesleep</th>\n      <th>rate_sleep</th>\n    </tr>\n  </thead>\n  <tbody>\n    <tr>\n      <th>0</th>\n      <td>bath</td>\n      <td>tv</td>\n      <td>1</td>\n      <td>frequently</td>\n      <td>bedtime</td>\n      <td>yes</td>\n      <td>schoolperformance</td>\n      <td>10</td>\n      <td>good</td>\n      <td>9.0</td>\n    </tr>\n    <tr>\n      <th>1</th>\n      <td>music</td>\n      <td>smartphone</td>\n      <td>2</td>\n      <td>sometimes</td>\n      <td>wakeuptime</td>\n      <td>no</td>\n      <td>mood</td>\n      <td>9</td>\n      <td>good</td>\n      <td>8.0</td>\n    </tr>\n    <tr>\n      <th>2</th>\n      <td>sex</td>\n      <td>ipad_tablet</td>\n      <td>3</td>\n      <td>never</td>\n      <td>dinnertime</td>\n      <td>yes</td>\n      <td>behaviour</td>\n      <td>8</td>\n      <td>good</td>\n      <td>7.0</td>\n    </tr>\n    <tr>\n      <th>3</th>\n      <td>pray</td>\n      <td>videogame</td>\n      <td>4</td>\n      <td>frequently</td>\n      <td>textinbed</td>\n      <td>no</td>\n      <td>qualitylife</td>\n      <td>7</td>\n      <td>ok</td>\n      <td>6.0</td>\n    </tr>\n    <tr>\n      <th>4</th>\n      <td>read</td>\n      <td>computer</td>\n      <td>5</td>\n      <td>sometimes</td>\n      <td>onoff</td>\n      <td>yes</td>\n      <td>active</td>\n      <td>6</td>\n      <td>ok</td>\n      <td>5.0</td>\n    </tr>\n    <tr>\n      <th>5</th>\n      <td>exercise</td>\n      <td>laptop</td>\n      <td>6</td>\n      <td>never</td>\n      <td>homework_late</td>\n      <td>no</td>\n      <td>extralessons</td>\n      <td>5</td>\n      <td>bad</td>\n      <td>4.0</td>\n    </tr>\n    <tr>\n      <th>6</th>\n      <td>alcohol</td>\n      <td>mp3</td>\n      <td>7</td>\n      <td>frequently</td>\n      <td>musiclate</td>\n      <td>yes</td>\n      <td>phoneinbed</td>\n      <td>4</td>\n      <td>bad</td>\n      <td>3.0</td>\n    </tr>\n    <tr>\n      <th>7</th>\n      <td>spouse</td>\n      <td>musicgadgets</td>\n      <td>8</td>\n      <td>sometimes</td>\n      <td>gameslate</td>\n      <td>no</td>\n      <td>pets</td>\n      <td>3</td>\n      <td>bad</td>\n      <td>2.0</td>\n    </tr>\n    <tr>\n      <th>8</th>\n      <td>medication</td>\n      <td>Unknown</td>\n      <td>9</td>\n      <td>never</td>\n      <td>deviceslate</td>\n      <td>yes</td>\n      <td>lightingtemp</td>\n      <td>2</td>\n      <td>bad</td>\n      <td>1.0</td>\n    </tr>\n  </tbody>\n</table>\n</div>",
      "text/plain": "   activities     devicesBR  devicescount       usage          Rules enforce  \\\n0        bath            tv             1  frequently        bedtime     yes   \n1       music    smartphone             2   sometimes     wakeuptime      no   \n2         sex   ipad_tablet             3       never     dinnertime     yes   \n3        pray     videogame             4  frequently      textinbed      no   \n4        read      computer             5   sometimes          onoff     yes   \n5    exercise        laptop             6       never  homework_late      no   \n6     alcohol           mp3             7  frequently      musiclate     yes   \n7      spouse  musicgadgets             8   sometimes      gameslate      no   \n8  medication       Unknown             9       never    deviceslate     yes   \n\n           behaviour  rate ratesleep  rate_sleep  \n0  schoolperformance    10      good         9.0  \n1               mood     9      good         8.0  \n2          behaviour     8      good         7.0  \n3        qualitylife     7        ok         6.0  \n4             active     6        ok         5.0  \n5       extralessons     5       bad         4.0  \n6         phoneinbed     4       bad         3.0  \n7               pets     3       bad         2.0  \n8       lightingtemp     2       bad         1.0  "
     },
     "execution_count": 3,
     "metadata": {},
     "output_type": "execute_result"
    }
   ],
   "source": [
    "# df_copy = df.copy()\r\n",
    "# df_copy['rate_sleep'] = df_copy['rate'].rank()\r\n",
    "# df_copy"
   ]
  },
  {
   "cell_type": "code",
   "execution_count": 6,
   "metadata": {},
   "outputs": [
    {
     "data": {
      "text/html": "<div>\n<style scoped>\n    .dataframe tbody tr th:only-of-type {\n        vertical-align: middle;\n    }\n\n    .dataframe tbody tr th {\n        vertical-align: top;\n    }\n\n    .dataframe thead th {\n        text-align: right;\n    }\n</style>\n<table border=\"1\" class=\"dataframe\">\n  <thead>\n    <tr style=\"text-align: right;\">\n      <th></th>\n      <th>activities</th>\n      <th>devicesBR</th>\n      <th>devicescount</th>\n      <th>usage</th>\n      <th>Rules</th>\n      <th>enforce</th>\n      <th>behaviour</th>\n      <th>rate</th>\n      <th>ratesleep</th>\n    </tr>\n  </thead>\n  <tbody>\n    <tr>\n      <th>0</th>\n      <td>bath</td>\n      <td>tv</td>\n      <td>1</td>\n      <td>frequently</td>\n      <td>bedtime</td>\n      <td>yes</td>\n      <td>schoolperformance</td>\n      <td>10</td>\n      <td>good</td>\n    </tr>\n    <tr>\n      <th>1</th>\n      <td>music</td>\n      <td>smartphone</td>\n      <td>2</td>\n      <td>sometimes</td>\n      <td>wakeuptime</td>\n      <td>no</td>\n      <td>mood</td>\n      <td>9</td>\n      <td>good</td>\n    </tr>\n    <tr>\n      <th>2</th>\n      <td>sex</td>\n      <td>ipad_tablet</td>\n      <td>3</td>\n      <td>never</td>\n      <td>dinnertime</td>\n      <td>yes</td>\n      <td>behaviour</td>\n      <td>8</td>\n      <td>good</td>\n    </tr>\n    <tr>\n      <th>3</th>\n      <td>pray</td>\n      <td>videogame</td>\n      <td>4</td>\n      <td>frequently</td>\n      <td>textinbed</td>\n      <td>no</td>\n      <td>qualitylife</td>\n      <td>7</td>\n      <td>ok</td>\n    </tr>\n    <tr>\n      <th>4</th>\n      <td>read</td>\n      <td>computer</td>\n      <td>5</td>\n      <td>sometimes</td>\n      <td>onoff</td>\n      <td>yes</td>\n      <td>active</td>\n      <td>6</td>\n      <td>ok</td>\n    </tr>\n    <tr>\n      <th>5</th>\n      <td>exercise</td>\n      <td>laptop</td>\n      <td>6</td>\n      <td>never</td>\n      <td>homework_late</td>\n      <td>no</td>\n      <td>extralessons</td>\n      <td>5</td>\n      <td>bad</td>\n    </tr>\n    <tr>\n      <th>6</th>\n      <td>alcohol</td>\n      <td>mp3</td>\n      <td>7</td>\n      <td>frequently</td>\n      <td>musiclate</td>\n      <td>yes</td>\n      <td>phoneinbed</td>\n      <td>4</td>\n      <td>bad</td>\n    </tr>\n    <tr>\n      <th>7</th>\n      <td>spouse</td>\n      <td>musicgadgets</td>\n      <td>8</td>\n      <td>sometimes</td>\n      <td>gameslate</td>\n      <td>no</td>\n      <td>pets</td>\n      <td>3</td>\n      <td>bad</td>\n    </tr>\n    <tr>\n      <th>8</th>\n      <td>medication</td>\n      <td>Unknown</td>\n      <td>9</td>\n      <td>never</td>\n      <td>deviceslate</td>\n      <td>yes</td>\n      <td>lightingtemp</td>\n      <td>2</td>\n      <td>bad</td>\n    </tr>\n  </tbody>\n</table>\n</div>",
      "text/plain": "   activities     devicesBR  devicescount       usage          Rules enforce  \\\n0        bath            tv             1  frequently        bedtime     yes   \n1       music    smartphone             2   sometimes     wakeuptime      no   \n2         sex   ipad_tablet             3       never     dinnertime     yes   \n3        pray     videogame             4  frequently      textinbed      no   \n4        read      computer             5   sometimes          onoff     yes   \n5    exercise        laptop             6       never  homework_late      no   \n6     alcohol           mp3             7  frequently      musiclate     yes   \n7      spouse  musicgadgets             8   sometimes      gameslate      no   \n8  medication       Unknown             9       never    deviceslate     yes   \n\n           behaviour  rate ratesleep  \n0  schoolperformance    10      good  \n1               mood     9      good  \n2          behaviour     8      good  \n3        qualitylife     7        ok  \n4             active     6        ok  \n5       extralessons     5       bad  \n6         phoneinbed     4       bad  \n7               pets     3       bad  \n8       lightingtemp     2       bad  "
     },
     "execution_count": 6,
     "metadata": {},
     "output_type": "execute_result"
    }
   ],
   "source": [
    "df = pd.read_csv(\"activities.csv\")\r\n",
    "df.head(10)"
   ]
  },
  {
   "cell_type": "code",
   "execution_count": 6,
   "metadata": {},
   "outputs": [
    {
     "data": {
      "text/html": "<div>\n<style scoped>\n    .dataframe tbody tr th:only-of-type {\n        vertical-align: middle;\n    }\n\n    .dataframe tbody tr th {\n        vertical-align: top;\n    }\n\n    .dataframe thead th {\n        text-align: right;\n    }\n</style>\n<table border=\"1\" class=\"dataframe\">\n  <thead>\n    <tr style=\"text-align: right;\">\n      <th></th>\n      <th>activities</th>\n      <th>devicesBR</th>\n      <th>devicescount</th>\n      <th>usage</th>\n      <th>Rules</th>\n      <th>enforce</th>\n      <th>behaviour</th>\n      <th>rate</th>\n      <th>ratesleep</th>\n    </tr>\n  </thead>\n  <tbody>\n    <tr>\n      <th>0</th>\n      <td>bath</td>\n      <td>tv</td>\n      <td>1</td>\n      <td>frequently</td>\n      <td>bedtime</td>\n      <td>yes</td>\n      <td>schoolperformance</td>\n      <td>10</td>\n      <td>good</td>\n    </tr>\n    <tr>\n      <th>1</th>\n      <td>music</td>\n      <td>smartphone</td>\n      <td>2</td>\n      <td>sometimes</td>\n      <td>wakeuptime</td>\n      <td>no</td>\n      <td>mood</td>\n      <td>9</td>\n      <td>good</td>\n    </tr>\n    <tr>\n      <th>2</th>\n      <td>sex</td>\n      <td>ipad_tablet</td>\n      <td>3</td>\n      <td>never</td>\n      <td>dinnertime</td>\n      <td>yes</td>\n      <td>behaviour</td>\n      <td>8</td>\n      <td>good</td>\n    </tr>\n    <tr>\n      <th>3</th>\n      <td>pray</td>\n      <td>videogame</td>\n      <td>4</td>\n      <td>frequently</td>\n      <td>textinbed</td>\n      <td>no</td>\n      <td>qualitylife</td>\n      <td>7</td>\n      <td>ok</td>\n    </tr>\n    <tr>\n      <th>4</th>\n      <td>read</td>\n      <td>computer</td>\n      <td>5</td>\n      <td>sometimes</td>\n      <td>onoff</td>\n      <td>yes</td>\n      <td>active</td>\n      <td>6</td>\n      <td>ok</td>\n    </tr>\n    <tr>\n      <th>5</th>\n      <td>exercise</td>\n      <td>laptop</td>\n      <td>6</td>\n      <td>never</td>\n      <td>homework_late</td>\n      <td>no</td>\n      <td>extralessons</td>\n      <td>5</td>\n      <td>bad</td>\n    </tr>\n    <tr>\n      <th>6</th>\n      <td>alcohol</td>\n      <td>mp3</td>\n      <td>7</td>\n      <td>frequently</td>\n      <td>musiclate</td>\n      <td>yes</td>\n      <td>phoneinbed</td>\n      <td>4</td>\n      <td>bad</td>\n    </tr>\n    <tr>\n      <th>7</th>\n      <td>spouse</td>\n      <td>musicgadgets</td>\n      <td>8</td>\n      <td>sometimes</td>\n      <td>gameslate</td>\n      <td>no</td>\n      <td>pets</td>\n      <td>3</td>\n      <td>bad</td>\n    </tr>\n    <tr>\n      <th>8</th>\n      <td>medication</td>\n      <td>Unknown</td>\n      <td>9</td>\n      <td>never</td>\n      <td>deviceslate</td>\n      <td>yes</td>\n      <td>lightingtemp</td>\n      <td>2</td>\n      <td>bad</td>\n    </tr>\n  </tbody>\n</table>\n</div>",
      "text/plain": "   activities     devicesBR  devicescount       usage          Rules enforce  \\\n0        bath            tv             1  frequently        bedtime     yes   \n1       music    smartphone             2   sometimes     wakeuptime      no   \n2         sex   ipad_tablet             3       never     dinnertime     yes   \n3        pray     videogame             4  frequently      textinbed      no   \n4        read      computer             5   sometimes          onoff     yes   \n5    exercise        laptop             6       never  homework_late      no   \n6     alcohol           mp3             7  frequently      musiclate     yes   \n7      spouse  musicgadgets             8   sometimes      gameslate      no   \n8  medication       Unknown             9       never    deviceslate     yes   \n\n           behaviour  rate ratesleep  \n0  schoolperformance    10      good  \n1               mood     9      good  \n2          behaviour     8      good  \n3        qualitylife     7        ok  \n4             active     6        ok  \n5       extralessons     5       bad  \n6         phoneinbed     4       bad  \n7               pets     3       bad  \n8       lightingtemp     2       bad  "
     },
     "execution_count": 6,
     "metadata": {},
     "output_type": "execute_result"
    }
   ],
   "source": [
    "df = df.dropna()\r\n",
    "df = df.drop_duplicates()\r\n",
    "df.head(10)"
   ]
  },
  {
   "cell_type": "code",
   "execution_count": 12,
   "metadata": {},
   "outputs": [
    {
     "data": {
      "text/plain": "(9, 9)"
     },
     "execution_count": 12,
     "metadata": {},
     "output_type": "execute_result"
    }
   ],
   "source": [
    "df.shape"
   ]
  },
  {
   "cell_type": "code",
   "execution_count": 4,
   "metadata": {},
   "outputs": [],
   "source": [
    "##loc is label-based, which means that we have to specify the name of the rows and columns that we need to filter out.\r\n",
    "X = df.loc[:,['activities','devicesBR','devicescount','usage','Rules','enforce','behaviour','rate']]\r\n",
    "y = df.ratesleep"
   ]
  },
  {
   "cell_type": "code",
   "execution_count": 5,
   "metadata": {},
   "outputs": [
    {
     "data": {
      "text/html": "<div>\n<style scoped>\n    .dataframe tbody tr th:only-of-type {\n        vertical-align: middle;\n    }\n\n    .dataframe tbody tr th {\n        vertical-align: top;\n    }\n\n    .dataframe thead th {\n        text-align: right;\n    }\n</style>\n<table border=\"1\" class=\"dataframe\">\n  <thead>\n    <tr style=\"text-align: right;\">\n      <th></th>\n      <th>activities</th>\n      <th>devicesBR</th>\n      <th>devicescount</th>\n      <th>usage</th>\n      <th>Rules</th>\n      <th>enforce</th>\n      <th>behaviour</th>\n      <th>rate</th>\n    </tr>\n  </thead>\n  <tbody>\n    <tr>\n      <th>0</th>\n      <td>bath</td>\n      <td>tv</td>\n      <td>1</td>\n      <td>frequently</td>\n      <td>bedtime</td>\n      <td>yes</td>\n      <td>schoolperformance</td>\n      <td>10</td>\n    </tr>\n    <tr>\n      <th>1</th>\n      <td>music</td>\n      <td>smartphone</td>\n      <td>2</td>\n      <td>sometimes</td>\n      <td>wakeuptime</td>\n      <td>no</td>\n      <td>mood</td>\n      <td>9</td>\n    </tr>\n    <tr>\n      <th>2</th>\n      <td>sex</td>\n      <td>ipad_tablet</td>\n      <td>3</td>\n      <td>never</td>\n      <td>dinnertime</td>\n      <td>yes</td>\n      <td>behaviour</td>\n      <td>8</td>\n    </tr>\n    <tr>\n      <th>3</th>\n      <td>pray</td>\n      <td>videogame</td>\n      <td>4</td>\n      <td>frequently</td>\n      <td>textinbed</td>\n      <td>no</td>\n      <td>qualitylife</td>\n      <td>7</td>\n    </tr>\n    <tr>\n      <th>4</th>\n      <td>read</td>\n      <td>computer</td>\n      <td>5</td>\n      <td>sometimes</td>\n      <td>onoff</td>\n      <td>yes</td>\n      <td>active</td>\n      <td>6</td>\n    </tr>\n  </tbody>\n</table>\n</div>",
      "text/plain": "  activities    devicesBR  devicescount       usage       Rules enforce  \\\n0       bath           tv             1  frequently     bedtime     yes   \n1      music   smartphone             2   sometimes  wakeuptime      no   \n2        sex  ipad_tablet             3       never  dinnertime     yes   \n3       pray    videogame             4  frequently   textinbed      no   \n4       read     computer             5   sometimes       onoff     yes   \n\n           behaviour  rate  \n0  schoolperformance    10  \n1               mood     9  \n2          behaviour     8  \n3        qualitylife     7  \n4             active     6  "
     },
     "execution_count": 5,
     "metadata": {},
     "output_type": "execute_result"
    }
   ],
   "source": [
    "X.head()"
   ]
  },
  {
   "cell_type": "code",
   "execution_count": 19,
   "metadata": {},
   "outputs": [],
   "source": [
    "from sklearn.preprocessing import LabelEncoder\r\n",
    "enc = LabelEncoder()\r\n",
    "X.loc[:,['activities','devicesBR','devicescount','usage','Rules','enforce','behaviour','rate']]= \\\r\n",
    "X.loc[:,['activities','devicesBR','devicescount','usage','Rules','enforce','behaviour','rate']].apply(enc.fit_transform)"
   ]
  },
  {
   "cell_type": "code",
   "execution_count": 11,
   "metadata": {},
   "outputs": [
    {
     "data": {
      "text/html": "<div>\n<style scoped>\n    .dataframe tbody tr th:only-of-type {\n        vertical-align: middle;\n    }\n\n    .dataframe tbody tr th {\n        vertical-align: top;\n    }\n\n    .dataframe thead th {\n        text-align: right;\n    }\n</style>\n<table border=\"1\" class=\"dataframe\">\n  <thead>\n    <tr style=\"text-align: right;\">\n      <th></th>\n      <th>activities</th>\n      <th>devicesBR</th>\n      <th>devices_count</th>\n      <th>usage</th>\n      <th>Rules</th>\n      <th>enforce</th>\n      <th>behaviour</th>\n      <th>rate</th>\n    </tr>\n  </thead>\n  <tbody>\n    <tr>\n      <th>0</th>\n      <td>1</td>\n      <td>7</td>\n      <td>0</td>\n      <td>0</td>\n      <td>0</td>\n      <td>1</td>\n      <td>7</td>\n      <td>8</td>\n    </tr>\n    <tr>\n      <th>1</th>\n      <td>4</td>\n      <td>6</td>\n      <td>1</td>\n      <td>2</td>\n      <td>8</td>\n      <td>0</td>\n      <td>4</td>\n      <td>7</td>\n    </tr>\n    <tr>\n      <th>2</th>\n      <td>7</td>\n      <td>2</td>\n      <td>2</td>\n      <td>1</td>\n      <td>2</td>\n      <td>1</td>\n      <td>1</td>\n      <td>6</td>\n    </tr>\n    <tr>\n      <th>3</th>\n      <td>5</td>\n      <td>8</td>\n      <td>3</td>\n      <td>0</td>\n      <td>7</td>\n      <td>0</td>\n      <td>6</td>\n      <td>5</td>\n    </tr>\n    <tr>\n      <th>4</th>\n      <td>6</td>\n      <td>1</td>\n      <td>4</td>\n      <td>2</td>\n      <td>6</td>\n      <td>1</td>\n      <td>0</td>\n      <td>4</td>\n    </tr>\n  </tbody>\n</table>\n</div>",
      "text/plain": "   activities  devicesBR  devices_count  usage  Rules  enforce  behaviour  \\\n0           1          7              0      0      0        1          7   \n1           4          6              1      2      8        0          4   \n2           7          2              2      1      2        1          1   \n3           5          8              3      0      7        0          6   \n4           6          1              4      2      6        1          0   \n\n   rate  \n0     8  \n1     7  \n2     6  \n3     5  \n4     4  "
     },
     "execution_count": 11,
     "metadata": {},
     "output_type": "execute_result"
    }
   ],
   "source": [
    "X.head()\r\n"
   ]
  },
  {
   "cell_type": "code",
   "execution_count": 20,
   "metadata": {},
   "outputs": [
    {
     "data": {
      "text/plain": "0    good\n1    good\n2    good\n3      ok\n4      ok\nName: ratesleep, dtype: object"
     },
     "execution_count": 20,
     "metadata": {},
     "output_type": "execute_result"
    }
   ],
   "source": [
    "y.head()"
   ]
  },
  {
   "cell_type": "code",
   "execution_count": 22,
   "metadata": {},
   "outputs": [
    {
     "data": {
      "text/plain": "<AxesSubplot:>"
     },
     "execution_count": 22,
     "metadata": {},
     "output_type": "execute_result"
    },
    {
     "data": {
      "image/png": "[encoded data removed]",
      "text/plain": "<Figure size 432x288 with 1 Axes>"
     },
     "metadata": {
      "needs_background": "light"
     },
     "output_type": "display_data"
    }
   ],
   "source": [
    "##Barplot to visualize the number of samples for each category in the target variable\r\n",
    "df['ratesleep'].value_counts().plot.bar( rot=30, color=\"green\", width=0.5)"
   ]
  },
  {
   "cell_type": "code",
   "execution_count": 23,
   "metadata": {},
   "outputs": [],
   "source": [
    "from sklearn.model_selection import train_test_split\r\n",
    "X_train,X_test,y_train,y_test = train_test_split(X,y,test_size=0.2,random_state=0)"
   ]
  },
  {
   "cell_type": "code",
   "execution_count": 24,
   "metadata": {},
   "outputs": [],
   "source": [
    "from sklearn import tree\r\n",
    "model = tree.DecisionTreeClassifier()"
   ]
  },
  {
   "cell_type": "code",
   "execution_count": 25,
   "metadata": {},
   "outputs": [
    {
     "data": {
      "text/plain": "DecisionTreeClassifier()"
     },
     "execution_count": 25,
     "metadata": {},
     "output_type": "execute_result"
    }
   ],
   "source": [
    "model.fit(X, y)"
   ]
  },
  {
   "cell_type": "code",
   "execution_count": 26,
   "metadata": {},
   "outputs": [
    {
     "data": {
      "text/plain": "<matplotlib.collections.PathCollection at 0x135eff9ab70>"
     },
     "execution_count": 26,
     "metadata": {},
     "output_type": "execute_result"
    },
    {
     "data": {
      "image/png": "[encoded data removed]",
      "text/plain": "<Figure size 432x288 with 1 Axes>"
     },
     "metadata": {
      "needs_background": "light"
     },
     "output_type": "display_data"
    }
   ],
   "source": [
    "from sklearn.datasets import make_regression\r\n",
    "\r\n",
    "X,y = make_regression(n_samples=9, n_features=1, bias=100)\r\n",
    "plt.scatter(X, y)"
   ]
  },
  {
   "cell_type": "code",
   "execution_count": null,
   "metadata": {},
   "outputs": [],
   "source": [
    "###The response or output is directly proportional to the input We can see from the data that we have a linear trend in our model. \r\n",
    "# (The response or output is directly proportional to the input) We can use Linear Regression to fit a line through the data."
   ]
  },
  {
   "cell_type": "code",
   "execution_count": 27,
   "metadata": {},
   "outputs": [
    {
     "data": {
      "text/plain": "array(['good'], dtype=object)"
     },
     "execution_count": 27,
     "metadata": {},
     "output_type": "execute_result"
    }
   ],
   "source": [
    "##Is bathing often rated good ?\r\n",
    "\r\n",
    "model.predict([[1,7,0,0,0,1,7,8]])"
   ]
  },
  {
   "cell_type": "code",
   "execution_count": 28,
   "metadata": {},
   "outputs": [
    {
     "data": {
      "text/plain": "array(['ok'], dtype=object)"
     },
     "execution_count": 28,
     "metadata": {},
     "output_type": "execute_result"
    }
   ],
   "source": [
    "##having 5 devices in BR, is it good or bad ?\r\n",
    "\r\n",
    "model.predict([[6,1,4,2,6,1,0,4]])\r\n"
   ]
  },
  {
   "cell_type": "code",
   "execution_count": 29,
   "metadata": {},
   "outputs": [
    {
     "data": {
      "text/plain": "['sleep_analysis.ml']"
     },
     "execution_count": 29,
     "metadata": {},
     "output_type": "execute_result"
    }
   ],
   "source": [
    "### Extracting model for flask\r\n",
    "import joblib\r\n",
    "joblib.dump(model,'sleep_analysis.ml')\r\n"
   ]
  },
  {
   "cell_type": "code",
   "execution_count": 30,
   "metadata": {},
   "outputs": [],
   "source": [
    "from sklearn.linear_model import LinearRegression\r\n",
    "regressor = LinearRegression()"
   ]
  },
  {
   "cell_type": "code",
   "execution_count": 31,
   "metadata": {},
   "outputs": [
    {
     "data": {
      "text/plain": "LinearRegression()"
     },
     "execution_count": 31,
     "metadata": {},
     "output_type": "execute_result"
    }
   ],
   "source": [
    "#Fitting model with trainig data\r\n",
    "regressor.fit(X, y)"
   ]
  },
  {
   "cell_type": "code",
   "execution_count": 32,
   "metadata": {},
   "outputs": [],
   "source": [
    "# Saving model to disk\r\n",
    "pickle.dump(regressor, open('model.pkl','wb'))"
   ]
  },
  {
   "cell_type": "code",
   "execution_count": 37,
   "metadata": {},
   "outputs": [
    {
     "name": "stdout",
     "output_type": "stream",
     "text": [
      "LinearRegression()\n"
     ]
    }
   ],
   "source": [
    "# Loading model to compare the results\r\n",
    "model = pickle.load(open('model.pkl','rb'))\r\n",
    "print(model)\r\n",
    "\r\n"
   ]
  }
 ],
 "metadata": {
  "kernelspec": {
   "display_name": "Python 3.6.13 64-bit ('PythonAdv': conda)",
   "name": "python3613jvsc74a57bd000733e0e9794b387d5a534b3e0db741067f621c43a769d72d1fd2cc1ced8c7fa"
  },
  "language_info": {
   "codemirror_mode": {
    "name": "ipython",
    "version": 3
   },
   "file_extension": ".py",
   "mimetype": "text/x-python",
   "name": "python",
   "nbconvert_exporter": "python",
   "pygments_lexer": "ipython3",
   "version": "3.6.13"
  },
  "orig_nbformat": 2
 },
 "nbformat": 4,
 "nbformat_minor": 2
}