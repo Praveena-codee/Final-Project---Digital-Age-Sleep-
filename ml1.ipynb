{
 "cells": [
  {
   "cell_type": "code",
   "execution_count": 13,
   "metadata": {},
   "outputs": [
    {
     "ename": "ModuleNotFoundError",
     "evalue": "No module named 'sqlalchemy'",
     "output_type": "error",
     "traceback": [
      "\u001b[1;31m---------------------------------------------------------------------------\u001b[0m",
      "\u001b[1;31mModuleNotFoundError\u001b[0m                       Traceback (most recent call last)",
      "\u001b[1;32m<ipython-input-13-3231322d36af>\u001b[0m in \u001b[0;36m<module>\u001b[1;34m\u001b[0m\n\u001b[0;32m      6\u001b[0m \u001b[1;32mfrom\u001b[0m \u001b[0mflask\u001b[0m \u001b[1;32mimport\u001b[0m \u001b[0mrequest\u001b[0m\u001b[1;33m\u001b[0m\u001b[1;33m\u001b[0m\u001b[0m\n\u001b[0;32m      7\u001b[0m \u001b[1;32mfrom\u001b[0m \u001b[0mflask_cors\u001b[0m \u001b[1;32mimport\u001b[0m \u001b[0mCORS\u001b[0m\u001b[1;33m\u001b[0m\u001b[1;33m\u001b[0m\u001b[0m\n\u001b[1;32m----> 8\u001b[1;33m \u001b[1;32mfrom\u001b[0m \u001b[0msqlalchemy\u001b[0m \u001b[1;32mimport\u001b[0m \u001b[0mcreate_engine\u001b[0m\u001b[1;33m\u001b[0m\u001b[1;33m\u001b[0m\u001b[0m\n\u001b[0m",
      "\u001b[1;31mModuleNotFoundError\u001b[0m: No module named 'sqlalchemy'"
     ]
    }
   ],
   "source": [
    "## import dependenacies\r\n",
    "import pandas as pd\r\n",
    "%matplotlib inline\r\n",
    "import matplotlib.pyplot as plt\r\n",
    "import flask\r\n",
    "from flask import request\r\n",
    "from flask_cors import CORS\r\n",
    "from sqlalchemy import create_engine"
   ]
  },
  {
   "cell_type": "code",
   "execution_count": 117,
   "metadata": {},
   "outputs": [
    {
     "data": {
      "text/html": "<div>\n<style scoped>\n    .dataframe tbody tr th:only-of-type {\n        vertical-align: middle;\n    }\n\n    .dataframe tbody tr th {\n        vertical-align: top;\n    }\n\n    .dataframe thead th {\n        text-align: right;\n    }\n</style>\n<table border=\"1\" class=\"dataframe\">\n  <thead>\n    <tr style=\"text-align: right;\">\n      <th></th>\n      <th>activities</th>\n      <th>devicesBR</th>\n      <th>devices_count</th>\n      <th>usage</th>\n      <th>Rules</th>\n      <th>enforce</th>\n      <th>behaviour</th>\n      <th>rate</th>\n      <th>rate_sleep</th>\n    </tr>\n  </thead>\n  <tbody>\n    <tr>\n      <th>0</th>\n      <td>bath</td>\n      <td>tv</td>\n      <td>1</td>\n      <td>frequently</td>\n      <td>bedtime</td>\n      <td>yes</td>\n      <td>school_performance</td>\n      <td>10</td>\n      <td>good</td>\n    </tr>\n    <tr>\n      <th>1</th>\n      <td>music</td>\n      <td>smartphone</td>\n      <td>2</td>\n      <td>sometimes</td>\n      <td>wakeuptime</td>\n      <td>no</td>\n      <td>mood</td>\n      <td>9</td>\n      <td>good</td>\n    </tr>\n    <tr>\n      <th>2</th>\n      <td>sex</td>\n      <td>ipad_tablet</td>\n      <td>3</td>\n      <td>never</td>\n      <td>dinnertime</td>\n      <td>yes</td>\n      <td>behaviour</td>\n      <td>8</td>\n      <td>good</td>\n    </tr>\n    <tr>\n      <th>3</th>\n      <td>pray</td>\n      <td>videogame</td>\n      <td>4</td>\n      <td>frequently</td>\n      <td>textinbed</td>\n      <td>no</td>\n      <td>quality_of_life</td>\n      <td>7</td>\n      <td>ok</td>\n    </tr>\n    <tr>\n      <th>4</th>\n      <td>read</td>\n      <td>computer</td>\n      <td>5</td>\n      <td>sometimes</td>\n      <td>on_off</td>\n      <td>yes</td>\n      <td>active</td>\n      <td>6</td>\n      <td>ok</td>\n    </tr>\n    <tr>\n      <th>5</th>\n      <td>exercise</td>\n      <td>laptop</td>\n      <td>6</td>\n      <td>never</td>\n      <td>homework_late</td>\n      <td>no</td>\n      <td>extra lessons</td>\n      <td>5</td>\n      <td>bad</td>\n    </tr>\n    <tr>\n      <th>6</th>\n      <td>alcohol</td>\n      <td>mp3</td>\n      <td>7</td>\n      <td>frequently</td>\n      <td>music_late</td>\n      <td>yes</td>\n      <td>send_read_textinbed</td>\n      <td>4</td>\n      <td>bad</td>\n    </tr>\n    <tr>\n      <th>7</th>\n      <td>talking_to_spouse</td>\n      <td>music_gadgets</td>\n      <td>8</td>\n      <td>sometimes</td>\n      <td>games_late</td>\n      <td>no</td>\n      <td>pets</td>\n      <td>3</td>\n      <td>bad</td>\n    </tr>\n    <tr>\n      <th>8</th>\n      <td>medication</td>\n      <td>Unknown</td>\n      <td>9</td>\n      <td>never</td>\n      <td>devices_late</td>\n      <td>yes</td>\n      <td>lighting_temp</td>\n      <td>2</td>\n      <td>bad</td>\n    </tr>\n  </tbody>\n</table>\n</div>",
      "text/plain": "          activities      devicesBR  devices_count       usage          Rules  \\\n0               bath             tv              1  frequently        bedtime   \n1              music     smartphone              2   sometimes     wakeuptime   \n2                sex    ipad_tablet              3       never     dinnertime   \n3               pray      videogame              4  frequently      textinbed   \n4               read       computer              5   sometimes         on_off   \n5           exercise         laptop              6       never  homework_late   \n6            alcohol            mp3              7  frequently     music_late   \n7  talking_to_spouse  music_gadgets              8   sometimes     games_late   \n8         medication        Unknown              9       never   devices_late   \n\n  enforce            behaviour  rate rate_sleep  \n0     yes   school_performance    10       good  \n1      no                 mood     9       good  \n2     yes            behaviour     8       good  \n3      no      quality_of_life     7         ok  \n4     yes               active     6         ok  \n5      no        extra lessons     5        bad  \n6     yes  send_read_textinbed     4        bad  \n7      no                 pets     3        bad  \n8     yes        lighting_temp     2        bad  "
     },
     "execution_count": 117,
     "metadata": {},
     "output_type": "execute_result"
    }
   ],
   "source": [
    "#### Read the csv file into a pandas DataFrame\r\n",
    "##Dataset:  categorical.csv\r\n",
    "\r\n",
    "df = pd.read_csv(\"activities.csv\")\r\n",
    "df.head(10)"
   ]
  },
  {
   "cell_type": "code",
   "execution_count": 118,
   "metadata": {},
   "outputs": [
    {
     "data": {
      "text/html": "<div>\n<style scoped>\n    .dataframe tbody tr th:only-of-type {\n        vertical-align: middle;\n    }\n\n    .dataframe tbody tr th {\n        vertical-align: top;\n    }\n\n    .dataframe thead th {\n        text-align: right;\n    }\n</style>\n<table border=\"1\" class=\"dataframe\">\n  <thead>\n    <tr style=\"text-align: right;\">\n      <th></th>\n      <th>activities</th>\n      <th>devicesBR</th>\n      <th>devices_count</th>\n      <th>usage</th>\n      <th>Rules</th>\n      <th>enforce</th>\n      <th>behaviour</th>\n      <th>rate</th>\n      <th>rate_sleep</th>\n    </tr>\n  </thead>\n  <tbody>\n    <tr>\n      <th>0</th>\n      <td>bath</td>\n      <td>tv</td>\n      <td>1</td>\n      <td>frequently</td>\n      <td>bedtime</td>\n      <td>yes</td>\n      <td>school_performance</td>\n      <td>10</td>\n      <td>9.0</td>\n    </tr>\n    <tr>\n      <th>1</th>\n      <td>music</td>\n      <td>smartphone</td>\n      <td>2</td>\n      <td>sometimes</td>\n      <td>wakeuptime</td>\n      <td>no</td>\n      <td>mood</td>\n      <td>9</td>\n      <td>8.0</td>\n    </tr>\n    <tr>\n      <th>2</th>\n      <td>sex</td>\n      <td>ipad_tablet</td>\n      <td>3</td>\n      <td>never</td>\n      <td>dinnertime</td>\n      <td>yes</td>\n      <td>behaviour</td>\n      <td>8</td>\n      <td>7.0</td>\n    </tr>\n    <tr>\n      <th>3</th>\n      <td>pray</td>\n      <td>videogame</td>\n      <td>4</td>\n      <td>frequently</td>\n      <td>textinbed</td>\n      <td>no</td>\n      <td>quality_of_life</td>\n      <td>7</td>\n      <td>6.0</td>\n    </tr>\n    <tr>\n      <th>4</th>\n      <td>read</td>\n      <td>computer</td>\n      <td>5</td>\n      <td>sometimes</td>\n      <td>on_off</td>\n      <td>yes</td>\n      <td>active</td>\n      <td>6</td>\n      <td>5.0</td>\n    </tr>\n    <tr>\n      <th>5</th>\n      <td>exercise</td>\n      <td>laptop</td>\n      <td>6</td>\n      <td>never</td>\n      <td>homework_late</td>\n      <td>no</td>\n      <td>extra lessons</td>\n      <td>5</td>\n      <td>4.0</td>\n    </tr>\n    <tr>\n      <th>6</th>\n      <td>alcohol</td>\n      <td>mp3</td>\n      <td>7</td>\n      <td>frequently</td>\n      <td>music_late</td>\n      <td>yes</td>\n      <td>send_read_textinbed</td>\n      <td>4</td>\n      <td>3.0</td>\n    </tr>\n    <tr>\n      <th>7</th>\n      <td>talking_to_spouse</td>\n      <td>music_gadgets</td>\n      <td>8</td>\n      <td>sometimes</td>\n      <td>games_late</td>\n      <td>no</td>\n      <td>pets</td>\n      <td>3</td>\n      <td>2.0</td>\n    </tr>\n    <tr>\n      <th>8</th>\n      <td>medication</td>\n      <td>Unknown</td>\n      <td>9</td>\n      <td>never</td>\n      <td>devices_late</td>\n      <td>yes</td>\n      <td>lighting_temp</td>\n      <td>2</td>\n      <td>1.0</td>\n    </tr>\n  </tbody>\n</table>\n</div>",
      "text/plain": "          activities      devicesBR  devices_count       usage          Rules  \\\n0               bath             tv              1  frequently        bedtime   \n1              music     smartphone              2   sometimes     wakeuptime   \n2                sex    ipad_tablet              3       never     dinnertime   \n3               pray      videogame              4  frequently      textinbed   \n4               read       computer              5   sometimes         on_off   \n5           exercise         laptop              6       never  homework_late   \n6            alcohol            mp3              7  frequently     music_late   \n7  talking_to_spouse  music_gadgets              8   sometimes     games_late   \n8         medication        Unknown              9       never   devices_late   \n\n  enforce            behaviour  rate  rate_sleep  \n0     yes   school_performance    10         9.0  \n1      no                 mood     9         8.0  \n2     yes            behaviour     8         7.0  \n3      no      quality_of_life     7         6.0  \n4     yes               active     6         5.0  \n5      no        extra lessons     5         4.0  \n6     yes  send_read_textinbed     4         3.0  \n7      no                 pets     3         2.0  \n8     yes        lighting_temp     2         1.0  "
     },
     "execution_count": 118,
     "metadata": {},
     "output_type": "execute_result"
    }
   ],
   "source": [
    "df_copy = df.copy()\r\n",
    "df_copy['rate_sleep'] = df_copy['rate'].rank()\r\n",
    "df_copy"
   ]
  },
  {
   "cell_type": "code",
   "execution_count": 119,
   "metadata": {},
   "outputs": [
    {
     "data": {
      "text/html": "<div>\n<style scoped>\n    .dataframe tbody tr th:only-of-type {\n        vertical-align: middle;\n    }\n\n    .dataframe tbody tr th {\n        vertical-align: top;\n    }\n\n    .dataframe thead th {\n        text-align: right;\n    }\n</style>\n<table border=\"1\" class=\"dataframe\">\n  <thead>\n    <tr style=\"text-align: right;\">\n      <th></th>\n      <th>activities</th>\n      <th>devicesBR</th>\n      <th>devices_count</th>\n      <th>usage</th>\n      <th>Rules</th>\n      <th>enforce</th>\n      <th>behaviour</th>\n      <th>rate</th>\n      <th>rate_sleep</th>\n    </tr>\n  </thead>\n  <tbody>\n    <tr>\n      <th>0</th>\n      <td>bath</td>\n      <td>tv</td>\n      <td>1</td>\n      <td>frequently</td>\n      <td>bedtime</td>\n      <td>yes</td>\n      <td>school_performance</td>\n      <td>10</td>\n      <td>good</td>\n    </tr>\n    <tr>\n      <th>1</th>\n      <td>music</td>\n      <td>smartphone</td>\n      <td>2</td>\n      <td>sometimes</td>\n      <td>wakeuptime</td>\n      <td>no</td>\n      <td>mood</td>\n      <td>9</td>\n      <td>good</td>\n    </tr>\n    <tr>\n      <th>2</th>\n      <td>sex</td>\n      <td>ipad_tablet</td>\n      <td>3</td>\n      <td>never</td>\n      <td>dinnertime</td>\n      <td>yes</td>\n      <td>behaviour</td>\n      <td>8</td>\n      <td>good</td>\n    </tr>\n    <tr>\n      <th>3</th>\n      <td>pray</td>\n      <td>videogame</td>\n      <td>4</td>\n      <td>frequently</td>\n      <td>textinbed</td>\n      <td>no</td>\n      <td>quality_of_life</td>\n      <td>7</td>\n      <td>ok</td>\n    </tr>\n    <tr>\n      <th>4</th>\n      <td>read</td>\n      <td>computer</td>\n      <td>5</td>\n      <td>sometimes</td>\n      <td>on_off</td>\n      <td>yes</td>\n      <td>active</td>\n      <td>6</td>\n      <td>ok</td>\n    </tr>\n    <tr>\n      <th>5</th>\n      <td>exercise</td>\n      <td>laptop</td>\n      <td>6</td>\n      <td>never</td>\n      <td>homework_late</td>\n      <td>no</td>\n      <td>extra lessons</td>\n      <td>5</td>\n      <td>bad</td>\n    </tr>\n    <tr>\n      <th>6</th>\n      <td>alcohol</td>\n      <td>mp3</td>\n      <td>7</td>\n      <td>frequently</td>\n      <td>music_late</td>\n      <td>yes</td>\n      <td>send_read_textinbed</td>\n      <td>4</td>\n      <td>bad</td>\n    </tr>\n    <tr>\n      <th>7</th>\n      <td>talking_to_spouse</td>\n      <td>music_gadgets</td>\n      <td>8</td>\n      <td>sometimes</td>\n      <td>games_late</td>\n      <td>no</td>\n      <td>pets</td>\n      <td>3</td>\n      <td>bad</td>\n    </tr>\n    <tr>\n      <th>8</th>\n      <td>medication</td>\n      <td>Unknown</td>\n      <td>9</td>\n      <td>never</td>\n      <td>devices_late</td>\n      <td>yes</td>\n      <td>lighting_temp</td>\n      <td>2</td>\n      <td>bad</td>\n    </tr>\n  </tbody>\n</table>\n</div>",
      "text/plain": "          activities      devicesBR  devices_count       usage          Rules  \\\n0               bath             tv              1  frequently        bedtime   \n1              music     smartphone              2   sometimes     wakeuptime   \n2                sex    ipad_tablet              3       never     dinnertime   \n3               pray      videogame              4  frequently      textinbed   \n4               read       computer              5   sometimes         on_off   \n5           exercise         laptop              6       never  homework_late   \n6            alcohol            mp3              7  frequently     music_late   \n7  talking_to_spouse  music_gadgets              8   sometimes     games_late   \n8         medication        Unknown              9       never   devices_late   \n\n  enforce            behaviour  rate rate_sleep  \n0     yes   school_performance    10       good  \n1      no                 mood     9       good  \n2     yes            behaviour     8       good  \n3      no      quality_of_life     7         ok  \n4     yes               active     6         ok  \n5      no        extra lessons     5        bad  \n6     yes  send_read_textinbed     4        bad  \n7      no                 pets     3        bad  \n8     yes        lighting_temp     2        bad  "
     },
     "execution_count": 119,
     "metadata": {},
     "output_type": "execute_result"
    }
   ],
   "source": [
    "df = pd.read_csv(\"activities.csv\")\r\n",
    "df.head(10)"
   ]
  },
  {
   "cell_type": "code",
   "execution_count": 120,
   "metadata": {},
   "outputs": [
    {
     "data": {
      "text/html": "<div>\n<style scoped>\n    .dataframe tbody tr th:only-of-type {\n        vertical-align: middle;\n    }\n\n    .dataframe tbody tr th {\n        vertical-align: top;\n    }\n\n    .dataframe thead th {\n        text-align: right;\n    }\n</style>\n<table border=\"1\" class=\"dataframe\">\n  <thead>\n    <tr style=\"text-align: right;\">\n      <th></th>\n      <th>activities</th>\n      <th>devicesBR</th>\n      <th>devices_count</th>\n      <th>usage</th>\n      <th>Rules</th>\n      <th>enforce</th>\n      <th>behaviour</th>\n      <th>rate</th>\n      <th>rate_sleep</th>\n    </tr>\n  </thead>\n  <tbody>\n    <tr>\n      <th>0</th>\n      <td>bath</td>\n      <td>tv</td>\n      <td>1</td>\n      <td>frequently</td>\n      <td>bedtime</td>\n      <td>yes</td>\n      <td>school_performance</td>\n      <td>10</td>\n      <td>good</td>\n    </tr>\n    <tr>\n      <th>1</th>\n      <td>music</td>\n      <td>smartphone</td>\n      <td>2</td>\n      <td>sometimes</td>\n      <td>wakeuptime</td>\n      <td>no</td>\n      <td>mood</td>\n      <td>9</td>\n      <td>good</td>\n    </tr>\n    <tr>\n      <th>2</th>\n      <td>sex</td>\n      <td>ipad_tablet</td>\n      <td>3</td>\n      <td>never</td>\n      <td>dinnertime</td>\n      <td>yes</td>\n      <td>behaviour</td>\n      <td>8</td>\n      <td>good</td>\n    </tr>\n    <tr>\n      <th>3</th>\n      <td>pray</td>\n      <td>videogame</td>\n      <td>4</td>\n      <td>frequently</td>\n      <td>textinbed</td>\n      <td>no</td>\n      <td>quality_of_life</td>\n      <td>7</td>\n      <td>ok</td>\n    </tr>\n    <tr>\n      <th>4</th>\n      <td>read</td>\n      <td>computer</td>\n      <td>5</td>\n      <td>sometimes</td>\n      <td>on_off</td>\n      <td>yes</td>\n      <td>active</td>\n      <td>6</td>\n      <td>ok</td>\n    </tr>\n    <tr>\n      <th>5</th>\n      <td>exercise</td>\n      <td>laptop</td>\n      <td>6</td>\n      <td>never</td>\n      <td>homework_late</td>\n      <td>no</td>\n      <td>extra lessons</td>\n      <td>5</td>\n      <td>bad</td>\n    </tr>\n    <tr>\n      <th>6</th>\n      <td>alcohol</td>\n      <td>mp3</td>\n      <td>7</td>\n      <td>frequently</td>\n      <td>music_late</td>\n      <td>yes</td>\n      <td>send_read_textinbed</td>\n      <td>4</td>\n      <td>bad</td>\n    </tr>\n    <tr>\n      <th>7</th>\n      <td>talking_to_spouse</td>\n      <td>music_gadgets</td>\n      <td>8</td>\n      <td>sometimes</td>\n      <td>games_late</td>\n      <td>no</td>\n      <td>pets</td>\n      <td>3</td>\n      <td>bad</td>\n    </tr>\n    <tr>\n      <th>8</th>\n      <td>medication</td>\n      <td>Unknown</td>\n      <td>9</td>\n      <td>never</td>\n      <td>devices_late</td>\n      <td>yes</td>\n      <td>lighting_temp</td>\n      <td>2</td>\n      <td>bad</td>\n    </tr>\n  </tbody>\n</table>\n</div>",
      "text/plain": "          activities      devicesBR  devices_count       usage          Rules  \\\n0               bath             tv              1  frequently        bedtime   \n1              music     smartphone              2   sometimes     wakeuptime   \n2                sex    ipad_tablet              3       never     dinnertime   \n3               pray      videogame              4  frequently      textinbed   \n4               read       computer              5   sometimes         on_off   \n5           exercise         laptop              6       never  homework_late   \n6            alcohol            mp3              7  frequently     music_late   \n7  talking_to_spouse  music_gadgets              8   sometimes     games_late   \n8         medication        Unknown              9       never   devices_late   \n\n  enforce            behaviour  rate rate_sleep  \n0     yes   school_performance    10       good  \n1      no                 mood     9       good  \n2     yes            behaviour     8       good  \n3      no      quality_of_life     7         ok  \n4     yes               active     6         ok  \n5      no        extra lessons     5        bad  \n6     yes  send_read_textinbed     4        bad  \n7      no                 pets     3        bad  \n8     yes        lighting_temp     2        bad  "
     },
     "execution_count": 120,
     "metadata": {},
     "output_type": "execute_result"
    }
   ],
   "source": [
    "df = df.dropna()\r\n",
    "df = df.drop_duplicates()\r\n",
    "df.head(10)"
   ]
  },
  {
   "cell_type": "code",
   "execution_count": null,
   "metadata": {},
   "outputs": [],
   "source": [
    "#  create database connection\r\n",
    "connection_string = \"postgres:Prav123@localhost:5432/Industry_db\"\r\n",
    "engine = create_engine(f'postgresql://{connection_string}')"
   ]
  },
  {
   "cell_type": "code",
   "execution_count": null,
   "metadata": {},
   "outputs": [],
   "source": []
  },
  {
   "cell_type": "code",
   "execution_count": null,
   "metadata": {},
   "outputs": [],
   "source": []
  },
  {
   "cell_type": "code",
   "execution_count": 133,
   "metadata": {},
   "outputs": [
    {
     "data": {
      "text/plain": "(9, 9)"
     },
     "execution_count": 133,
     "metadata": {},
     "output_type": "execute_result"
    }
   ],
   "source": [
    "df.shape"
   ]
  },
  {
   "cell_type": "code",
   "execution_count": 134,
   "metadata": {},
   "outputs": [],
   "source": [
    "X = df.loc[:,['activities','devicesBR','devices_count','usage','Rules','enforce','behaviour','rate']]\r\n",
    "y = df.rate_sleep"
   ]
  },
  {
   "cell_type": "code",
   "execution_count": 135,
   "metadata": {},
   "outputs": [
    {
     "data": {
      "text/html": "<div>\n<style scoped>\n    .dataframe tbody tr th:only-of-type {\n        vertical-align: middle;\n    }\n\n    .dataframe tbody tr th {\n        vertical-align: top;\n    }\n\n    .dataframe thead th {\n        text-align: right;\n    }\n</style>\n<table border=\"1\" class=\"dataframe\">\n  <thead>\n    <tr style=\"text-align: right;\">\n      <th></th>\n      <th>activities</th>\n      <th>devicesBR</th>\n      <th>devices_count</th>\n      <th>usage</th>\n      <th>Rules</th>\n      <th>enforce</th>\n      <th>behaviour</th>\n      <th>rate</th>\n    </tr>\n  </thead>\n  <tbody>\n    <tr>\n      <th>0</th>\n      <td>bath</td>\n      <td>tv</td>\n      <td>1</td>\n      <td>frequently</td>\n      <td>bedtime</td>\n      <td>yes</td>\n      <td>school_performance</td>\n      <td>10</td>\n    </tr>\n    <tr>\n      <th>1</th>\n      <td>music</td>\n      <td>smartphone</td>\n      <td>2</td>\n      <td>sometimes</td>\n      <td>wakeuptime</td>\n      <td>no</td>\n      <td>mood</td>\n      <td>9</td>\n    </tr>\n    <tr>\n      <th>2</th>\n      <td>sex</td>\n      <td>ipad_tablet</td>\n      <td>3</td>\n      <td>never</td>\n      <td>dinnertime</td>\n      <td>yes</td>\n      <td>behaviour</td>\n      <td>8</td>\n    </tr>\n    <tr>\n      <th>3</th>\n      <td>pray</td>\n      <td>videogame</td>\n      <td>4</td>\n      <td>frequently</td>\n      <td>textinbed</td>\n      <td>no</td>\n      <td>quality_of_life</td>\n      <td>7</td>\n    </tr>\n    <tr>\n      <th>4</th>\n      <td>read</td>\n      <td>computer</td>\n      <td>5</td>\n      <td>sometimes</td>\n      <td>on_off</td>\n      <td>yes</td>\n      <td>active</td>\n      <td>6</td>\n    </tr>\n  </tbody>\n</table>\n</div>",
      "text/plain": "  activities    devicesBR  devices_count       usage       Rules enforce  \\\n0       bath           tv              1  frequently     bedtime     yes   \n1      music   smartphone              2   sometimes  wakeuptime      no   \n2        sex  ipad_tablet              3       never  dinnertime     yes   \n3       pray    videogame              4  frequently   textinbed      no   \n4       read     computer              5   sometimes      on_off     yes   \n\n            behaviour  rate  \n0  school_performance    10  \n1                mood     9  \n2           behaviour     8  \n3     quality_of_life     7  \n4              active     6  "
     },
     "execution_count": 135,
     "metadata": {},
     "output_type": "execute_result"
    }
   ],
   "source": [
    "X.head()"
   ]
  },
  {
   "cell_type": "code",
   "execution_count": 136,
   "metadata": {},
   "outputs": [],
   "source": [
    "from sklearn.preprocessing import LabelEncoder\r\n",
    "enc = LabelEncoder()\r\n",
    "X.loc[:,['activities','devicesBR','devices_count','usage','Rules','enforce','behaviour','rate']]= \\\r\n",
    "X.loc[:,['activities','devicesBR','devices_count','usage','Rules','enforce','behaviour','rate']].apply(enc.fit_transform)"
   ]
  },
  {
   "cell_type": "code",
   "execution_count": 137,
   "metadata": {},
   "outputs": [
    {
     "data": {
      "text/html": "<div>\n<style scoped>\n    .dataframe tbody tr th:only-of-type {\n        vertical-align: middle;\n    }\n\n    .dataframe tbody tr th {\n        vertical-align: top;\n    }\n\n    .dataframe thead th {\n        text-align: right;\n    }\n</style>\n<table border=\"1\" class=\"dataframe\">\n  <thead>\n    <tr style=\"text-align: right;\">\n      <th></th>\n      <th>activities</th>\n      <th>devicesBR</th>\n      <th>devices_count</th>\n      <th>usage</th>\n      <th>Rules</th>\n      <th>enforce</th>\n      <th>behaviour</th>\n      <th>rate</th>\n    </tr>\n  </thead>\n  <tbody>\n    <tr>\n      <th>0</th>\n      <td>1</td>\n      <td>7</td>\n      <td>0</td>\n      <td>0</td>\n      <td>0</td>\n      <td>1</td>\n      <td>7</td>\n      <td>8</td>\n    </tr>\n    <tr>\n      <th>1</th>\n      <td>4</td>\n      <td>6</td>\n      <td>1</td>\n      <td>2</td>\n      <td>8</td>\n      <td>0</td>\n      <td>4</td>\n      <td>7</td>\n    </tr>\n    <tr>\n      <th>2</th>\n      <td>7</td>\n      <td>2</td>\n      <td>2</td>\n      <td>1</td>\n      <td>2</td>\n      <td>1</td>\n      <td>1</td>\n      <td>6</td>\n    </tr>\n    <tr>\n      <th>3</th>\n      <td>5</td>\n      <td>8</td>\n      <td>3</td>\n      <td>0</td>\n      <td>7</td>\n      <td>0</td>\n      <td>6</td>\n      <td>5</td>\n    </tr>\n    <tr>\n      <th>4</th>\n      <td>6</td>\n      <td>1</td>\n      <td>4</td>\n      <td>2</td>\n      <td>6</td>\n      <td>1</td>\n      <td>0</td>\n      <td>4</td>\n    </tr>\n  </tbody>\n</table>\n</div>",
      "text/plain": "   activities  devicesBR  devices_count  usage  Rules  enforce  behaviour  \\\n0           1          7              0      0      0        1          7   \n1           4          6              1      2      8        0          4   \n2           7          2              2      1      2        1          1   \n3           5          8              3      0      7        0          6   \n4           6          1              4      2      6        1          0   \n\n   rate  \n0     8  \n1     7  \n2     6  \n3     5  \n4     4  "
     },
     "execution_count": 137,
     "metadata": {},
     "output_type": "execute_result"
    }
   ],
   "source": [
    "X.head()\r\n"
   ]
  },
  {
   "cell_type": "code",
   "execution_count": 138,
   "metadata": {},
   "outputs": [
    {
     "data": {
      "text/plain": "0    good\n1    good\n2    good\n3      ok\n4      ok\nName: rate_sleep, dtype: object"
     },
     "execution_count": 138,
     "metadata": {},
     "output_type": "execute_result"
    }
   ],
   "source": [
    "y.head()"
   ]
  },
  {
   "cell_type": "code",
   "execution_count": 139,
   "metadata": {},
   "outputs": [
    {
     "data": {
      "text/plain": "<AxesSubplot:>"
     },
     "execution_count": 139,
     "metadata": {},
     "output_type": "execute_result"
    },
    {
     "data": {
      "image/png": "[encoded data removed]",
      "text/plain": "<Figure size 432x288 with 1 Axes>"
     },
     "metadata": {
      "needs_background": "light"
     },
     "output_type": "display_data"
    }
   ],
   "source": [
    "##Barplot to visualize the number of samples for each category in the target variable\r\n",
    "df['rate_sleep'].value_counts().plot.bar( rot=30, color=\"green\", width=0.5)"
   ]
  },
  {
   "cell_type": "code",
   "execution_count": 140,
   "metadata": {},
   "outputs": [],
   "source": [
    "from sklearn.model_selection import train_test_split\r\n",
    "X_train,X_test,y_train,y_test = train_test_split(X,y,test_size=0.2,random_state=0)"
   ]
  },
  {
   "cell_type": "code",
   "execution_count": 141,
   "metadata": {},
   "outputs": [],
   "source": [
    "from sklearn import tree\r\n",
    "model = tree.DecisionTreeClassifier()"
   ]
  },
  {
   "cell_type": "code",
   "execution_count": 143,
   "metadata": {},
   "outputs": [
    {
     "data": {
      "text/plain": "DecisionTreeClassifier()"
     },
     "execution_count": 143,
     "metadata": {},
     "output_type": "execute_result"
    }
   ],
   "source": [
    "model.fit(X, y)"
   ]
  },
  {
   "cell_type": "code",
   "execution_count": 144,
   "metadata": {},
   "outputs": [
    {
     "data": {
      "text/plain": "<matplotlib.collections.PathCollection at 0x2a0d7c21898>"
     },
     "execution_count": 144,
     "metadata": {},
     "output_type": "execute_result"
    },
    {
     "data": {
      "image/png": "[encoded data removed]",
      "text/plain": "<Figure size 432x288 with 1 Axes>"
     },
     "metadata": {
      "needs_background": "light"
     },
     "output_type": "display_data"
    }
   ],
   "source": [
    "from sklearn.datasets import make_regression\r\n",
    "\r\n",
    "X,y = make_regression(n_samples=9, n_features=1, bias=100)\r\n",
    "plt.scatter(X, y)"
   ]
  },
  {
   "cell_type": "code",
   "execution_count": null,
   "metadata": {},
   "outputs": [],
   "source": [
    "###The response or output is directly proportional to the input We can see from the data that we have a linear trend in our model. \r\n",
    "# (The response or output is directly proportional to the input) We can use Linear Regression to fit a line through the data."
   ]
  },
  {
   "cell_type": "code",
   "execution_count": 145,
   "metadata": {},
   "outputs": [
    {
     "data": {
      "text/plain": "array(['good'], dtype=object)"
     },
     "execution_count": 145,
     "metadata": {},
     "output_type": "execute_result"
    }
   ],
   "source": [
    "##Is bath, often, mean rating good ?\r\n",
    "\r\n",
    "model.predict([[1,7,0,0,0,1,7,8]])"
   ]
  },
  {
   "cell_type": "code",
   "execution_count": 147,
   "metadata": {},
   "outputs": [
    {
     "data": {
      "text/plain": "array(['ok'], dtype=object)"
     },
     "execution_count": 147,
     "metadata": {},
     "output_type": "execute_result"
    }
   ],
   "source": [
    "##having 5 devices in BR, is it good or bad ?\r\n",
    "\r\n",
    "model.predict([[6,1,4,2,6,1,0,4]])\r\n"
   ]
  },
  {
   "cell_type": "code",
   "execution_count": 148,
   "metadata": {},
   "outputs": [],
   "source": [
    "### Extracting model for flask\r\n",
    "import joblib\r\n",
    "model = joblib.dump(model,'sleep_analysis.ml')"
   ]
  },
  {
   "cell_type": "code",
   "execution_count": 149,
   "metadata": {},
   "outputs": [],
   "source": []
  },
  {
   "cell_type": "code",
   "execution_count": null,
   "metadata": {},
   "outputs": [],
   "source": []
  }
 ],
 "metadata": {
  "kernelspec": {
   "display_name": "Python 3.6.13 64-bit ('PythonAdv': conda)",
   "name": "python3613jvsc74a57bd000733e0e9794b387d5a534b3e0db741067f621c43a769d72d1fd2cc1ced8c7fa"
  },
  "language_info": {
   "codemirror_mode": {
    "name": "ipython",
    "version": 3
   },
   "file_extension": ".py",
   "mimetype": "text/x-python",
   "name": "python",
   "nbconvert_exporter": "python",
   "pygments_lexer": "ipython3",
   "version": "3.6.13"
  },
  "orig_nbformat": 2
 },
 "nbformat": 4,
 "nbformat_minor": 2
}