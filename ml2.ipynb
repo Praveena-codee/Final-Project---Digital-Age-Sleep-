{
 "cells": [
  {
   "cell_type": "code",
   "execution_count": 11,
   "metadata": {},
   "outputs": [],
   "source": [
    "import pandas as pd\r\n",
    "from sqlalchemy import create_engine"
   ]
  },
  {
   "cell_type": "code",
   "execution_count": 21,
   "metadata": {},
   "outputs": [
    {
     "data": {
      "text/html": "<div>\n<style scoped>\n    .dataframe tbody tr th:only-of-type {\n        vertical-align: middle;\n    }\n\n    .dataframe tbody tr th {\n        vertical-align: top;\n    }\n\n    .dataframe thead th {\n        text-align: right;\n    }\n</style>\n<table border=\"1\" class=\"dataframe\">\n  <thead>\n    <tr style=\"text-align: right;\">\n      <th></th>\n      <th>activities</th>\n      <th>devicesBR</th>\n      <th>devicescount</th>\n      <th>usage</th>\n      <th>Rules</th>\n      <th>enforce</th>\n      <th>behaviour</th>\n      <th>rate</th>\n      <th>ratesleep</th>\n    </tr>\n  </thead>\n  <tbody>\n    <tr>\n      <th>0</th>\n      <td>bath</td>\n      <td>tv</td>\n      <td>1</td>\n      <td>frequently</td>\n      <td>bedtime</td>\n      <td>yes</td>\n      <td>schoolperformance</td>\n      <td>10</td>\n      <td>good</td>\n    </tr>\n    <tr>\n      <th>1</th>\n      <td>music</td>\n      <td>smartphone</td>\n      <td>2</td>\n      <td>sometimes</td>\n      <td>wakeuptime</td>\n      <td>no</td>\n      <td>mood</td>\n      <td>9</td>\n      <td>good</td>\n    </tr>\n    <tr>\n      <th>2</th>\n      <td>sex</td>\n      <td>ipad_tablet</td>\n      <td>3</td>\n      <td>never</td>\n      <td>dinnertime</td>\n      <td>yes</td>\n      <td>behaviour</td>\n      <td>8</td>\n      <td>good</td>\n    </tr>\n    <tr>\n      <th>3</th>\n      <td>pray</td>\n      <td>videogame</td>\n      <td>4</td>\n      <td>frequently</td>\n      <td>textinbed</td>\n      <td>no</td>\n      <td>qualitylife</td>\n      <td>7</td>\n      <td>ok</td>\n    </tr>\n    <tr>\n      <th>4</th>\n      <td>read</td>\n      <td>computer</td>\n      <td>5</td>\n      <td>sometimes</td>\n      <td>onoff</td>\n      <td>yes</td>\n      <td>active</td>\n      <td>6</td>\n      <td>ok</td>\n    </tr>\n    <tr>\n      <th>5</th>\n      <td>exercise</td>\n      <td>laptop</td>\n      <td>6</td>\n      <td>never</td>\n      <td>homework_late</td>\n      <td>no</td>\n      <td>extralessons</td>\n      <td>5</td>\n      <td>bad</td>\n    </tr>\n    <tr>\n      <th>6</th>\n      <td>alcohol</td>\n      <td>mp3</td>\n      <td>7</td>\n      <td>frequently</td>\n      <td>musiclate</td>\n      <td>yes</td>\n      <td>phoneinbed</td>\n      <td>4</td>\n      <td>bad</td>\n    </tr>\n    <tr>\n      <th>7</th>\n      <td>spouse</td>\n      <td>musicgadgets</td>\n      <td>8</td>\n      <td>sometimes</td>\n      <td>gameslate</td>\n      <td>no</td>\n      <td>pets</td>\n      <td>3</td>\n      <td>bad</td>\n    </tr>\n    <tr>\n      <th>8</th>\n      <td>medication</td>\n      <td>Unknown</td>\n      <td>9</td>\n      <td>never</td>\n      <td>deviceslate</td>\n      <td>yes</td>\n      <td>lightingtemp</td>\n      <td>2</td>\n      <td>bad</td>\n    </tr>\n  </tbody>\n</table>\n</div>",
      "text/plain": "   activities     devicesBR  devicescount       usage          Rules enforce  \\\n0        bath            tv             1  frequently        bedtime     yes   \n1       music    smartphone             2   sometimes     wakeuptime      no   \n2         sex   ipad_tablet             3       never     dinnertime     yes   \n3        pray     videogame             4  frequently      textinbed      no   \n4        read      computer             5   sometimes          onoff     yes   \n5    exercise        laptop             6       never  homework_late      no   \n6     alcohol           mp3             7  frequently      musiclate     yes   \n7      spouse  musicgadgets             8   sometimes      gameslate      no   \n8  medication       Unknown             9       never    deviceslate     yes   \n\n           behaviour  rate ratesleep  \n0  schoolperformance    10      good  \n1               mood     9      good  \n2          behaviour     8      good  \n3        qualitylife     7        ok  \n4             active     6        ok  \n5       extralessons     5       bad  \n6         phoneinbed     4       bad  \n7               pets     3       bad  \n8       lightingtemp     2       bad  "
     },
     "execution_count": 21,
     "metadata": {},
     "output_type": "execute_result"
    }
   ],
   "source": [
    "df = pd.read_csv(\"activities.csv\")\r\n",
    "df.head(10)"
   ]
  },
  {
   "cell_type": "code",
   "execution_count": 22,
   "metadata": {},
   "outputs": [
    {
     "name": "stdout",
     "output_type": "stream",
     "text": [
      "Requirement already satisfied: psycopg2-binary in c:\\users\\praveena\\anaconda3\\envs\\pythondata\\lib\\site-packages (2.8.6)\n",
      "Note: you may need to restart the kernel to use updated packages.\n"
     ]
    }
   ],
   "source": [
    "pip install psycopg2-binary"
   ]
  },
  {
   "cell_type": "code",
   "execution_count": 23,
   "metadata": {},
   "outputs": [],
   "source": [
    "#  create database connection\r\n",
    "connection_string = \"postgres:Prav123@localhost:5432/sleepdb\"\r\n",
    "engine = create_engine(f'postgresql://{connection_string}')"
   ]
  },
  {
   "cell_type": "code",
   "execution_count": 24,
   "metadata": {},
   "outputs": [
    {
     "data": {
      "text/plain": "['sleep']"
     },
     "execution_count": 24,
     "metadata": {},
     "output_type": "execute_result"
    }
   ],
   "source": [
    "# Confirm tables\r\n",
    "engine.table_names()"
   ]
  },
  {
   "cell_type": "code",
   "execution_count": 25,
   "metadata": {},
   "outputs": [],
   "source": [
    "df.to_sql(name='sleep', con=engine, if_exists='replace', index=True)"
   ]
  },
  {
   "cell_type": "code",
   "execution_count": 26,
   "metadata": {},
   "outputs": [
    {
     "data": {
      "text/html": "<div>\n<style scoped>\n    .dataframe tbody tr th:only-of-type {\n        vertical-align: middle;\n    }\n\n    .dataframe tbody tr th {\n        vertical-align: top;\n    }\n\n    .dataframe thead th {\n        text-align: right;\n    }\n</style>\n<table border=\"1\" class=\"dataframe\">\n  <thead>\n    <tr style=\"text-align: right;\">\n      <th></th>\n      <th>index</th>\n      <th>activities</th>\n      <th>devicesBR</th>\n      <th>devicescount</th>\n      <th>usage</th>\n      <th>Rules</th>\n      <th>enforce</th>\n      <th>behaviour</th>\n      <th>rate</th>\n      <th>ratesleep</th>\n    </tr>\n  </thead>\n  <tbody>\n    <tr>\n      <th>0</th>\n      <td>0</td>\n      <td>bath</td>\n      <td>tv</td>\n      <td>1</td>\n      <td>frequently</td>\n      <td>bedtime</td>\n      <td>yes</td>\n      <td>schoolperformance</td>\n      <td>10</td>\n      <td>good</td>\n    </tr>\n    <tr>\n      <th>1</th>\n      <td>1</td>\n      <td>music</td>\n      <td>smartphone</td>\n      <td>2</td>\n      <td>sometimes</td>\n      <td>wakeuptime</td>\n      <td>no</td>\n      <td>mood</td>\n      <td>9</td>\n      <td>good</td>\n    </tr>\n    <tr>\n      <th>2</th>\n      <td>2</td>\n      <td>sex</td>\n      <td>ipad_tablet</td>\n      <td>3</td>\n      <td>never</td>\n      <td>dinnertime</td>\n      <td>yes</td>\n      <td>behaviour</td>\n      <td>8</td>\n      <td>good</td>\n    </tr>\n    <tr>\n      <th>3</th>\n      <td>3</td>\n      <td>pray</td>\n      <td>videogame</td>\n      <td>4</td>\n      <td>frequently</td>\n      <td>textinbed</td>\n      <td>no</td>\n      <td>qualitylife</td>\n      <td>7</td>\n      <td>ok</td>\n    </tr>\n    <tr>\n      <th>4</th>\n      <td>4</td>\n      <td>read</td>\n      <td>computer</td>\n      <td>5</td>\n      <td>sometimes</td>\n      <td>onoff</td>\n      <td>yes</td>\n      <td>active</td>\n      <td>6</td>\n      <td>ok</td>\n    </tr>\n    <tr>\n      <th>5</th>\n      <td>5</td>\n      <td>exercise</td>\n      <td>laptop</td>\n      <td>6</td>\n      <td>never</td>\n      <td>homework_late</td>\n      <td>no</td>\n      <td>extralessons</td>\n      <td>5</td>\n      <td>bad</td>\n    </tr>\n    <tr>\n      <th>6</th>\n      <td>6</td>\n      <td>alcohol</td>\n      <td>mp3</td>\n      <td>7</td>\n      <td>frequently</td>\n      <td>musiclate</td>\n      <td>yes</td>\n      <td>phoneinbed</td>\n      <td>4</td>\n      <td>bad</td>\n    </tr>\n    <tr>\n      <th>7</th>\n      <td>7</td>\n      <td>spouse</td>\n      <td>musicgadgets</td>\n      <td>8</td>\n      <td>sometimes</td>\n      <td>gameslate</td>\n      <td>no</td>\n      <td>pets</td>\n      <td>3</td>\n      <td>bad</td>\n    </tr>\n    <tr>\n      <th>8</th>\n      <td>8</td>\n      <td>medication</td>\n      <td>Unknown</td>\n      <td>9</td>\n      <td>never</td>\n      <td>deviceslate</td>\n      <td>yes</td>\n      <td>lightingtemp</td>\n      <td>2</td>\n      <td>bad</td>\n    </tr>\n  </tbody>\n</table>\n</div>",
      "text/plain": "   index  activities     devicesBR  devicescount       usage          Rules  \\\n0      0        bath            tv             1  frequently        bedtime   \n1      1       music    smartphone             2   sometimes     wakeuptime   \n2      2         sex   ipad_tablet             3       never     dinnertime   \n3      3        pray     videogame             4  frequently      textinbed   \n4      4        read      computer             5   sometimes          onoff   \n5      5    exercise        laptop             6       never  homework_late   \n6      6     alcohol           mp3             7  frequently      musiclate   \n7      7      spouse  musicgadgets             8   sometimes      gameslate   \n8      8  medication       Unknown             9       never    deviceslate   \n\n  enforce          behaviour  rate ratesleep  \n0     yes  schoolperformance    10      good  \n1      no               mood     9      good  \n2     yes          behaviour     8      good  \n3      no        qualitylife     7        ok  \n4     yes             active     6        ok  \n5      no       extralessons     5       bad  \n6     yes         phoneinbed     4       bad  \n7      no               pets     3       bad  \n8     yes       lightingtemp     2       bad  "
     },
     "execution_count": 26,
     "metadata": {},
     "output_type": "execute_result"
    }
   ],
   "source": [
    "#Confirm data has been added by querying \r\n",
    "pd.read_sql_query('select * from sleep', con=engine)"
   ]
  },
  {
   "cell_type": "code",
   "execution_count": 33,
   "metadata": {},
   "outputs": [],
   "source": [
    "###Reflect Tables into SQLAlchemy ORM\r\n",
    "# Python SQL toolkit and Object Relational Mapper\r\n",
    "import sqlalchemy\r\n",
    "from sqlalchemy.ext.automap import automap_base\r\n",
    "from sqlalchemy.orm import Session\r\n",
    "from sqlalchemy import create_engine, func\r\n",
    "from scipy import stats"
   ]
  },
  {
   "cell_type": "code",
   "execution_count": 34,
   "metadata": {},
   "outputs": [
    {
     "data": {
      "text/html": "<div>\n<style scoped>\n    .dataframe tbody tr th:only-of-type {\n        vertical-align: middle;\n    }\n\n    .dataframe tbody tr th {\n        vertical-align: top;\n    }\n\n    .dataframe thead th {\n        text-align: right;\n    }\n</style>\n<table border=\"1\" class=\"dataframe\">\n  <thead>\n    <tr style=\"text-align: right;\">\n      <th></th>\n      <th>activities</th>\n      <th>devicesBR</th>\n      <th>devicescount</th>\n      <th>usage</th>\n      <th>Rules</th>\n      <th>enforce</th>\n      <th>behaviour</th>\n      <th>rate</th>\n      <th>ratesleep</th>\n    </tr>\n  </thead>\n  <tbody>\n    <tr>\n      <th>0</th>\n      <td>bath</td>\n      <td>tv</td>\n      <td>1</td>\n      <td>frequently</td>\n      <td>bedtime</td>\n      <td>yes</td>\n      <td>schoolperformance</td>\n      <td>10</td>\n      <td>good</td>\n    </tr>\n    <tr>\n      <th>1</th>\n      <td>music</td>\n      <td>smartphone</td>\n      <td>2</td>\n      <td>sometimes</td>\n      <td>wakeuptime</td>\n      <td>no</td>\n      <td>mood</td>\n      <td>9</td>\n      <td>good</td>\n    </tr>\n    <tr>\n      <th>2</th>\n      <td>sex</td>\n      <td>ipad_tablet</td>\n      <td>3</td>\n      <td>never</td>\n      <td>dinnertime</td>\n      <td>yes</td>\n      <td>behaviour</td>\n      <td>8</td>\n      <td>good</td>\n    </tr>\n    <tr>\n      <th>3</th>\n      <td>pray</td>\n      <td>videogame</td>\n      <td>4</td>\n      <td>frequently</td>\n      <td>textinbed</td>\n      <td>no</td>\n      <td>qualitylife</td>\n      <td>7</td>\n      <td>ok</td>\n    </tr>\n    <tr>\n      <th>4</th>\n      <td>read</td>\n      <td>computer</td>\n      <td>5</td>\n      <td>sometimes</td>\n      <td>onoff</td>\n      <td>yes</td>\n      <td>active</td>\n      <td>6</td>\n      <td>ok</td>\n    </tr>\n  </tbody>\n</table>\n</div>",
      "text/plain": "  activities    devicesBR  devicescount       usage       Rules enforce  \\\n0       bath           tv             1  frequently     bedtime     yes   \n1      music   smartphone             2   sometimes  wakeuptime      no   \n2        sex  ipad_tablet             3       never  dinnertime     yes   \n3       pray    videogame             4  frequently   textinbed      no   \n4       read     computer             5   sometimes       onoff     yes   \n\n           behaviour  rate ratesleep  \n0  schoolperformance    10      good  \n1               mood     9      good  \n2          behaviour     8      good  \n3        qualitylife     7        ok  \n4             active     6        ok  "
     },
     "execution_count": 34,
     "metadata": {},
     "output_type": "execute_result"
    }
   ],
   "source": [
    "###read the data\r\n",
    "df = pd.read_csv('activities.csv')\r\n",
    "df.head()"
   ]
  },
  {
   "cell_type": "code",
   "execution_count": 46,
   "metadata": {},
   "outputs": [],
   "source": [
    "# Create Database and engine Connection\r\n",
    "db_path = \"sleepdb\"\r\n",
    "engine = create_engine(f\"sqlite:///{db_path}\")\r\n",
    "conn = engine.connect()\r\n"
   ]
  },
  {
   "cell_type": "code",
   "execution_count": 49,
   "metadata": {},
   "outputs": [
    {
     "ename": "AttributeError",
     "evalue": "'str' object has no attribute 'create_all'",
     "output_type": "error",
     "traceback": [
      "\u001b[1;31m---------------------------------------------------------------------------\u001b[0m",
      "\u001b[1;31mAttributeError\u001b[0m                            Traceback (most recent call last)",
      "\u001b[1;32m<ipython-input-49-511678567a09>\u001b[0m in \u001b[0;36m<module>\u001b[1;34m\u001b[0m\n\u001b[0;32m      1\u001b[0m \u001b[1;31m# Query All Records in the the Database\u001b[0m\u001b[1;33m\u001b[0m\u001b[1;33m\u001b[0m\u001b[1;33m\u001b[0m\u001b[0m\n\u001b[1;32m----> 2\u001b[1;33m \u001b[0mdb_path\u001b[0m\u001b[1;33m.\u001b[0m\u001b[0mcreate_all\u001b[0m\u001b[1;33m(\u001b[0m\u001b[1;33m)\u001b[0m\u001b[1;33m\u001b[0m\u001b[1;33m\u001b[0m\u001b[0m\n\u001b[0m",
      "\u001b[1;31mAttributeError\u001b[0m: 'str' object has no attribute 'create_all'"
     ]
    }
   ],
   "source": [
    "# Query All Records in the the Database\r\n",
    "db_path.create_all()"
   ]
  },
  {
   "cell_type": "code",
   "execution_count": null,
   "metadata": {},
   "outputs": [],
   "source": []
  },
  {
   "cell_type": "code",
   "execution_count": 40,
   "metadata": {},
   "outputs": [],
   "source": [
    "##Create a \"Metadata\" Layer That Abstracts our SQL Database\r\n",
    "##Use this to clear out the db\r\n",
    "# ----------------------------------\r\n",
    "# Base.metadata.drop_all(engine)\r\n",
    "\r\n",
    "from sqlalchemy.ext.declarative import declarative_base\r\n",
    "Base = declarative_base()\r\n",
    "Base.metadata.create_all(engine)\r\n"
   ]
  },
  {
   "cell_type": "code",
   "execution_count": 41,
   "metadata": {},
   "outputs": [],
   "source": [
    "# Create a Session Object to Connect to DB\r\n",
    "# ----------------------------------\r\n",
    "from sqlalchemy.orm import Session\r\n",
    "session = Session(bind=engine)"
   ]
  },
  {
   "cell_type": "code",
   "execution_count": 28,
   "metadata": {},
   "outputs": [],
   "source": [
    "# create engine to hawaii.sqlite\r\n",
    "engine = create_engine(\"sqlite:///sleep.sqlite\")"
   ]
  },
  {
   "cell_type": "code",
   "execution_count": 29,
   "metadata": {},
   "outputs": [],
   "source": [
    " ###reflect an existing database into a new model\r\n",
    "Base = automap_base()\r\n",
    "# reflect the tables\r\n",
    "Base.prepare(engine, reflect=True)"
   ]
  },
  {
   "cell_type": "code",
   "execution_count": 30,
   "metadata": {},
   "outputs": [
    {
     "data": {
      "text/plain": "[]"
     },
     "execution_count": 30,
     "metadata": {},
     "output_type": "execute_result"
    }
   ],
   "source": [
    "# View all of the classes that automap found\r\n",
    "Base.classes.keys()"
   ]
  },
  {
   "cell_type": "code",
   "execution_count": null,
   "metadata": {},
   "outputs": [],
   "source": []
  },
  {
   "cell_type": "code",
   "execution_count": null,
   "metadata": {},
   "outputs": [],
   "source": []
  }
 ],
 "metadata": {
  "kernelspec": {
   "display_name": "Python 3.6.10 64-bit ('PythonData': conda)",
   "name": "python3610jvsc74a57bd0a0c8903a9a313ca1144f527d504733ac6e1538e5af3ea6ebc4659c5888219c00"
  },
  "language_info": {
   "codemirror_mode": {
    "name": "ipython",
    "version": 3
   },
   "file_extension": ".py",
   "mimetype": "text/x-python",
   "name": "python",
   "nbconvert_exporter": "python",
   "pygments_lexer": "ipython3",
   "version": "3.6.10"
  },
  "orig_nbformat": 2
 },
 "nbformat": 4,
 "nbformat_minor": 2
}